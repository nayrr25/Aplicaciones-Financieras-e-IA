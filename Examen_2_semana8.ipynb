{
  "nbformat": 4,
  "nbformat_minor": 0,
  "metadata": {
    "colab": {
      "provenance": [],
      "authorship_tag": "ABX9TyNq+tgtuHjVUxZxnl43ZXHj",
      "include_colab_link": true
    },
    "kernelspec": {
      "name": "python3",
      "display_name": "Python 3"
    },
    "language_info": {
      "name": "python"
    }
  },
  "cells": [
    {
      "cell_type": "markdown",
      "metadata": {
        "id": "view-in-github",
        "colab_type": "text"
      },
      "source": [
        "<a href=\"https://colab.research.google.com/github/nayrr25/Aplicaciones-Financieras-e-IA/blob/main/Examen_2_semana8.ipynb\" target=\"_parent\"><img src=\"https://colab.research.google.com/assets/colab-badge.svg\" alt=\"Open In Colab\"/></a>"
      ]
    },
    {
      "cell_type": "markdown",
      "source": [
        "# Prediccion con LSTM de los tipos de cambio"
      ],
      "metadata": {
        "id": "TlDxvGEXLBwy"
      }
    },
    {
      "cell_type": "markdown",
      "source": [
        "[![Open In Colab](https://colab.research.google.com/assets/colab-badge.svg)](https://colab.research.google.com/github/MaxMitre/Aplicaciones-Financieras/blob/main/Semana7/1_Manejo_de_portafolios_Markovitz.ipynb)"
      ],
      "metadata": {
        "id": "tSv08ZYLLGu_"
      }
    },
    {
      "cell_type": "code",
      "source": [
        "\n",
        "!pip install yfinance\n"
      ],
      "metadata": {
        "colab": {
          "base_uri": "https://localhost:8080/"
        },
        "id": "h9Ni9WjuMzOK",
        "outputId": "934ed886-c247-41ba-8213-0730b6cf5f4b"
      },
      "execution_count": 1,
      "outputs": [
        {
          "output_type": "stream",
          "name": "stdout",
          "text": [
            "Requirement already satisfied: yfinance in /usr/local/lib/python3.10/dist-packages (0.2.28)\n",
            "Requirement already satisfied: pandas>=1.3.0 in /usr/local/lib/python3.10/dist-packages (from yfinance) (1.5.3)\n",
            "Requirement already satisfied: numpy>=1.16.5 in /usr/local/lib/python3.10/dist-packages (from yfinance) (1.23.5)\n",
            "Requirement already satisfied: requests>=2.31 in /usr/local/lib/python3.10/dist-packages (from yfinance) (2.31.0)\n",
            "Requirement already satisfied: multitasking>=0.0.7 in /usr/local/lib/python3.10/dist-packages (from yfinance) (0.0.11)\n",
            "Requirement already satisfied: lxml>=4.9.1 in /usr/local/lib/python3.10/dist-packages (from yfinance) (4.9.3)\n",
            "Requirement already satisfied: appdirs>=1.4.4 in /usr/local/lib/python3.10/dist-packages (from yfinance) (1.4.4)\n",
            "Requirement already satisfied: pytz>=2022.5 in /usr/local/lib/python3.10/dist-packages (from yfinance) (2023.3)\n",
            "Requirement already satisfied: frozendict>=2.3.4 in /usr/local/lib/python3.10/dist-packages (from yfinance) (2.3.8)\n",
            "Requirement already satisfied: beautifulsoup4>=4.11.1 in /usr/local/lib/python3.10/dist-packages (from yfinance) (4.11.2)\n",
            "Requirement already satisfied: html5lib>=1.1 in /usr/local/lib/python3.10/dist-packages (from yfinance) (1.1)\n",
            "Requirement already satisfied: soupsieve>1.2 in /usr/local/lib/python3.10/dist-packages (from beautifulsoup4>=4.11.1->yfinance) (2.4.1)\n",
            "Requirement already satisfied: six>=1.9 in /usr/local/lib/python3.10/dist-packages (from html5lib>=1.1->yfinance) (1.16.0)\n",
            "Requirement already satisfied: webencodings in /usr/local/lib/python3.10/dist-packages (from html5lib>=1.1->yfinance) (0.5.1)\n",
            "Requirement already satisfied: python-dateutil>=2.8.1 in /usr/local/lib/python3.10/dist-packages (from pandas>=1.3.0->yfinance) (2.8.2)\n",
            "Requirement already satisfied: charset-normalizer<4,>=2 in /usr/local/lib/python3.10/dist-packages (from requests>=2.31->yfinance) (3.2.0)\n",
            "Requirement already satisfied: idna<4,>=2.5 in /usr/local/lib/python3.10/dist-packages (from requests>=2.31->yfinance) (3.4)\n",
            "Requirement already satisfied: urllib3<3,>=1.21.1 in /usr/local/lib/python3.10/dist-packages (from requests>=2.31->yfinance) (2.0.4)\n",
            "Requirement already satisfied: certifi>=2017.4.17 in /usr/local/lib/python3.10/dist-packages (from requests>=2.31->yfinance) (2023.7.22)\n"
          ]
        }
      ]
    },
    {
      "cell_type": "code",
      "source": [
        "#Paquetes\n",
        "import yfinance as yf\n",
        "import pandas as pd"
      ],
      "metadata": {
        "id": "gFBXCUBTLHho"
      },
      "execution_count": 2,
      "outputs": []
    },
    {
      "cell_type": "code",
      "source": [
        "import numpy as np\n",
        "import pandas as pd\n",
        "import matplotlib.pyplot as plt\n",
        "from sklearn.preprocessing import MinMaxScaler\n",
        "from tensorflow.keras.models import Sequential\n",
        "from tensorflow.keras.layers import LSTM, Dense\n"
      ],
      "metadata": {
        "id": "IeFGMbPbNvZE"
      },
      "execution_count": 3,
      "outputs": []
    },
    {
      "cell_type": "code",
      "source": [
        "import pandas as pd\n",
        "import numpy as np\n",
        "\n",
        "from sklearn.model_selection import train_test_split\n",
        "\n",
        "import tensorflow as tf\n",
        "from tensorflow import keras\n",
        "from keras import layers\n",
        "\n",
        "import plotly.graph_objects as go"
      ],
      "metadata": {
        "id": "kjTZgQQQZWdP"
      },
      "execution_count": 4,
      "outputs": []
    },
    {
      "cell_type": "code",
      "source": [
        "def evaluate_model(estimator, train, val, test):\n",
        "    print('train cross_entropy = ', estimator.evaluate(train[0], train[1], verbose = False))\n",
        "    print('  val cross_entropy = ', estimator.evaluate(val[0], val[1], verbose = False))\n",
        "    print(' test cross_entropy = ', estimator.evaluate(test[0], test[1], verbose = False))"
      ],
      "metadata": {
        "id": "W6K3opNAdu_y"
      },
      "execution_count": 5,
      "outputs": []
    },
    {
      "cell_type": "code",
      "source": [
        "\n",
        "# Define el símbolo del par de divisas para el dólar en pesos mexicanos\n",
        "symbol = 'USDMXN=X'\n",
        "\n",
        "# Descarga los datos históricos\n",
        "df = yf.download(symbol, period=\"1y\", interval = \"1d\",)\n",
        "data=df.copy()"
      ],
      "metadata": {
        "colab": {
          "base_uri": "https://localhost:8080/"
        },
        "id": "eD3YjHr7NE5s",
        "outputId": "c552e878-44a7-44de-9f1e-1ea589eb44d6"
      },
      "execution_count": 6,
      "outputs": [
        {
          "output_type": "stream",
          "name": "stdout",
          "text": [
            "\r[*********************100%%**********************]  1 of 1 completed\n"
          ]
        }
      ]
    },
    {
      "cell_type": "code",
      "source": [
        "data"
      ],
      "metadata": {
        "colab": {
          "base_uri": "https://localhost:8080/",
          "height": 455
        },
        "id": "kNHf_Aqm-rua",
        "outputId": "b479642d-0f3a-4f2d-b5b6-12ba84d48450"
      },
      "execution_count": 7,
      "outputs": [
        {
          "output_type": "execute_result",
          "data": {
            "text/plain": [
              "                 Open       High        Low      Close  Adj Close  Volume\n",
              "Date                                                                     \n",
              "2022-08-25  19.902599  19.957821  19.837099  19.902599  19.902599       0\n",
              "2022-08-26  19.919100  19.969419  19.858200  19.919100  19.919100       0\n",
              "2022-08-29  20.067801  20.145269  19.964100  20.067801  20.067801       0\n",
              "2022-08-30  19.984800  20.140301  19.898600  19.984800  19.984800       0\n",
              "2022-08-31  20.127300  20.236879  20.070299  20.127300  20.127300       0\n",
              "...               ...        ...        ...        ...        ...     ...\n",
              "2023-08-21  17.026100  17.076651  17.003799  17.026100  17.026100       0\n",
              "2023-08-22  17.012800  17.027100  16.882601  17.012800  17.012800       0\n",
              "2023-08-23  16.906450  16.909710  16.786301  16.906450  16.906450       0\n",
              "2023-08-24  16.779100  16.853540  16.756100  16.779100  16.779100       0\n",
              "2023-08-25  16.809999  16.831949  16.806999  16.826599  16.826599       0\n",
              "\n",
              "[262 rows x 6 columns]"
            ],
            "text/html": [
              "\n",
              "  <div id=\"df-b419aebb-7ba8-47c0-9794-3977f2f6c77d\" class=\"colab-df-container\">\n",
              "    <div>\n",
              "<style scoped>\n",
              "    .dataframe tbody tr th:only-of-type {\n",
              "        vertical-align: middle;\n",
              "    }\n",
              "\n",
              "    .dataframe tbody tr th {\n",
              "        vertical-align: top;\n",
              "    }\n",
              "\n",
              "    .dataframe thead th {\n",
              "        text-align: right;\n",
              "    }\n",
              "</style>\n",
              "<table border=\"1\" class=\"dataframe\">\n",
              "  <thead>\n",
              "    <tr style=\"text-align: right;\">\n",
              "      <th></th>\n",
              "      <th>Open</th>\n",
              "      <th>High</th>\n",
              "      <th>Low</th>\n",
              "      <th>Close</th>\n",
              "      <th>Adj Close</th>\n",
              "      <th>Volume</th>\n",
              "    </tr>\n",
              "    <tr>\n",
              "      <th>Date</th>\n",
              "      <th></th>\n",
              "      <th></th>\n",
              "      <th></th>\n",
              "      <th></th>\n",
              "      <th></th>\n",
              "      <th></th>\n",
              "    </tr>\n",
              "  </thead>\n",
              "  <tbody>\n",
              "    <tr>\n",
              "      <th>2022-08-25</th>\n",
              "      <td>19.902599</td>\n",
              "      <td>19.957821</td>\n",
              "      <td>19.837099</td>\n",
              "      <td>19.902599</td>\n",
              "      <td>19.902599</td>\n",
              "      <td>0</td>\n",
              "    </tr>\n",
              "    <tr>\n",
              "      <th>2022-08-26</th>\n",
              "      <td>19.919100</td>\n",
              "      <td>19.969419</td>\n",
              "      <td>19.858200</td>\n",
              "      <td>19.919100</td>\n",
              "      <td>19.919100</td>\n",
              "      <td>0</td>\n",
              "    </tr>\n",
              "    <tr>\n",
              "      <th>2022-08-29</th>\n",
              "      <td>20.067801</td>\n",
              "      <td>20.145269</td>\n",
              "      <td>19.964100</td>\n",
              "      <td>20.067801</td>\n",
              "      <td>20.067801</td>\n",
              "      <td>0</td>\n",
              "    </tr>\n",
              "    <tr>\n",
              "      <th>2022-08-30</th>\n",
              "      <td>19.984800</td>\n",
              "      <td>20.140301</td>\n",
              "      <td>19.898600</td>\n",
              "      <td>19.984800</td>\n",
              "      <td>19.984800</td>\n",
              "      <td>0</td>\n",
              "    </tr>\n",
              "    <tr>\n",
              "      <th>2022-08-31</th>\n",
              "      <td>20.127300</td>\n",
              "      <td>20.236879</td>\n",
              "      <td>20.070299</td>\n",
              "      <td>20.127300</td>\n",
              "      <td>20.127300</td>\n",
              "      <td>0</td>\n",
              "    </tr>\n",
              "    <tr>\n",
              "      <th>...</th>\n",
              "      <td>...</td>\n",
              "      <td>...</td>\n",
              "      <td>...</td>\n",
              "      <td>...</td>\n",
              "      <td>...</td>\n",
              "      <td>...</td>\n",
              "    </tr>\n",
              "    <tr>\n",
              "      <th>2023-08-21</th>\n",
              "      <td>17.026100</td>\n",
              "      <td>17.076651</td>\n",
              "      <td>17.003799</td>\n",
              "      <td>17.026100</td>\n",
              "      <td>17.026100</td>\n",
              "      <td>0</td>\n",
              "    </tr>\n",
              "    <tr>\n",
              "      <th>2023-08-22</th>\n",
              "      <td>17.012800</td>\n",
              "      <td>17.027100</td>\n",
              "      <td>16.882601</td>\n",
              "      <td>17.012800</td>\n",
              "      <td>17.012800</td>\n",
              "      <td>0</td>\n",
              "    </tr>\n",
              "    <tr>\n",
              "      <th>2023-08-23</th>\n",
              "      <td>16.906450</td>\n",
              "      <td>16.909710</td>\n",
              "      <td>16.786301</td>\n",
              "      <td>16.906450</td>\n",
              "      <td>16.906450</td>\n",
              "      <td>0</td>\n",
              "    </tr>\n",
              "    <tr>\n",
              "      <th>2023-08-24</th>\n",
              "      <td>16.779100</td>\n",
              "      <td>16.853540</td>\n",
              "      <td>16.756100</td>\n",
              "      <td>16.779100</td>\n",
              "      <td>16.779100</td>\n",
              "      <td>0</td>\n",
              "    </tr>\n",
              "    <tr>\n",
              "      <th>2023-08-25</th>\n",
              "      <td>16.809999</td>\n",
              "      <td>16.831949</td>\n",
              "      <td>16.806999</td>\n",
              "      <td>16.826599</td>\n",
              "      <td>16.826599</td>\n",
              "      <td>0</td>\n",
              "    </tr>\n",
              "  </tbody>\n",
              "</table>\n",
              "<p>262 rows × 6 columns</p>\n",
              "</div>\n",
              "    <div class=\"colab-df-buttons\">\n",
              "\n",
              "  <div class=\"colab-df-container\">\n",
              "    <button class=\"colab-df-convert\" onclick=\"convertToInteractive('df-b419aebb-7ba8-47c0-9794-3977f2f6c77d')\"\n",
              "            title=\"Convert this dataframe to an interactive table.\"\n",
              "            style=\"display:none;\">\n",
              "\n",
              "  <svg xmlns=\"http://www.w3.org/2000/svg\" height=\"24px\" viewBox=\"0 -960 960 960\">\n",
              "    <path d=\"M120-120v-720h720v720H120Zm60-500h600v-160H180v160Zm220 220h160v-160H400v160Zm0 220h160v-160H400v160ZM180-400h160v-160H180v160Zm440 0h160v-160H620v160ZM180-180h160v-160H180v160Zm440 0h160v-160H620v160Z\"/>\n",
              "  </svg>\n",
              "    </button>\n",
              "\n",
              "  <style>\n",
              "    .colab-df-container {\n",
              "      display:flex;\n",
              "      gap: 12px;\n",
              "    }\n",
              "\n",
              "    .colab-df-convert {\n",
              "      background-color: #E8F0FE;\n",
              "      border: none;\n",
              "      border-radius: 50%;\n",
              "      cursor: pointer;\n",
              "      display: none;\n",
              "      fill: #1967D2;\n",
              "      height: 32px;\n",
              "      padding: 0 0 0 0;\n",
              "      width: 32px;\n",
              "    }\n",
              "\n",
              "    .colab-df-convert:hover {\n",
              "      background-color: #E2EBFA;\n",
              "      box-shadow: 0px 1px 2px rgba(60, 64, 67, 0.3), 0px 1px 3px 1px rgba(60, 64, 67, 0.15);\n",
              "      fill: #174EA6;\n",
              "    }\n",
              "\n",
              "    .colab-df-buttons div {\n",
              "      margin-bottom: 4px;\n",
              "    }\n",
              "\n",
              "    [theme=dark] .colab-df-convert {\n",
              "      background-color: #3B4455;\n",
              "      fill: #D2E3FC;\n",
              "    }\n",
              "\n",
              "    [theme=dark] .colab-df-convert:hover {\n",
              "      background-color: #434B5C;\n",
              "      box-shadow: 0px 1px 3px 1px rgba(0, 0, 0, 0.15);\n",
              "      filter: drop-shadow(0px 1px 2px rgba(0, 0, 0, 0.3));\n",
              "      fill: #FFFFFF;\n",
              "    }\n",
              "  </style>\n",
              "\n",
              "    <script>\n",
              "      const buttonEl =\n",
              "        document.querySelector('#df-b419aebb-7ba8-47c0-9794-3977f2f6c77d button.colab-df-convert');\n",
              "      buttonEl.style.display =\n",
              "        google.colab.kernel.accessAllowed ? 'block' : 'none';\n",
              "\n",
              "      async function convertToInteractive(key) {\n",
              "        const element = document.querySelector('#df-b419aebb-7ba8-47c0-9794-3977f2f6c77d');\n",
              "        const dataTable =\n",
              "          await google.colab.kernel.invokeFunction('convertToInteractive',\n",
              "                                                    [key], {});\n",
              "        if (!dataTable) return;\n",
              "\n",
              "        const docLinkHtml = 'Like what you see? Visit the ' +\n",
              "          '<a target=\"_blank\" href=https://colab.research.google.com/notebooks/data_table.ipynb>data table notebook</a>'\n",
              "          + ' to learn more about interactive tables.';\n",
              "        element.innerHTML = '';\n",
              "        dataTable['output_type'] = 'display_data';\n",
              "        await google.colab.output.renderOutput(dataTable, element);\n",
              "        const docLink = document.createElement('div');\n",
              "        docLink.innerHTML = docLinkHtml;\n",
              "        element.appendChild(docLink);\n",
              "      }\n",
              "    </script>\n",
              "  </div>\n",
              "\n",
              "\n",
              "<div id=\"df-9d33e0dd-e6a5-4ff0-b5c6-8851a42a1066\">\n",
              "  <button class=\"colab-df-quickchart\" onclick=\"quickchart('df-9d33e0dd-e6a5-4ff0-b5c6-8851a42a1066')\"\n",
              "            title=\"Suggest charts.\"\n",
              "            style=\"display:none;\">\n",
              "\n",
              "<svg xmlns=\"http://www.w3.org/2000/svg\" height=\"24px\"viewBox=\"0 0 24 24\"\n",
              "     width=\"24px\">\n",
              "    <g>\n",
              "        <path d=\"M19 3H5c-1.1 0-2 .9-2 2v14c0 1.1.9 2 2 2h14c1.1 0 2-.9 2-2V5c0-1.1-.9-2-2-2zM9 17H7v-7h2v7zm4 0h-2V7h2v10zm4 0h-2v-4h2v4z\"/>\n",
              "    </g>\n",
              "</svg>\n",
              "  </button>\n",
              "\n",
              "<style>\n",
              "  .colab-df-quickchart {\n",
              "    background-color: #E8F0FE;\n",
              "    border: none;\n",
              "    border-radius: 50%;\n",
              "    cursor: pointer;\n",
              "    display: none;\n",
              "    fill: #1967D2;\n",
              "    height: 32px;\n",
              "    padding: 0 0 0 0;\n",
              "    width: 32px;\n",
              "  }\n",
              "\n",
              "  .colab-df-quickchart:hover {\n",
              "    background-color: #E2EBFA;\n",
              "    box-shadow: 0px 1px 2px rgba(60, 64, 67, 0.3), 0px 1px 3px 1px rgba(60, 64, 67, 0.15);\n",
              "    fill: #174EA6;\n",
              "  }\n",
              "\n",
              "  [theme=dark] .colab-df-quickchart {\n",
              "    background-color: #3B4455;\n",
              "    fill: #D2E3FC;\n",
              "  }\n",
              "\n",
              "  [theme=dark] .colab-df-quickchart:hover {\n",
              "    background-color: #434B5C;\n",
              "    box-shadow: 0px 1px 3px 1px rgba(0, 0, 0, 0.15);\n",
              "    filter: drop-shadow(0px 1px 2px rgba(0, 0, 0, 0.3));\n",
              "    fill: #FFFFFF;\n",
              "  }\n",
              "</style>\n",
              "\n",
              "  <script>\n",
              "    async function quickchart(key) {\n",
              "      const charts = await google.colab.kernel.invokeFunction(\n",
              "          'suggestCharts', [key], {});\n",
              "    }\n",
              "    (() => {\n",
              "      let quickchartButtonEl =\n",
              "        document.querySelector('#df-9d33e0dd-e6a5-4ff0-b5c6-8851a42a1066 button');\n",
              "      quickchartButtonEl.style.display =\n",
              "        google.colab.kernel.accessAllowed ? 'block' : 'none';\n",
              "    })();\n",
              "  </script>\n",
              "</div>\n",
              "    </div>\n",
              "  </div>\n"
            ]
          },
          "metadata": {},
          "execution_count": 7
        }
      ]
    },
    {
      "cell_type": "code",
      "source": [
        "data= pd.DataFrame(data)\n",
        "data"
      ],
      "metadata": {
        "colab": {
          "base_uri": "https://localhost:8080/",
          "height": 455
        },
        "id": "_-r4cCCGOA0Y",
        "outputId": "0657a068-8329-4e52-d095-454f39b8f937"
      },
      "execution_count": 8,
      "outputs": [
        {
          "output_type": "execute_result",
          "data": {
            "text/plain": [
              "                 Open       High        Low      Close  Adj Close  Volume\n",
              "Date                                                                     \n",
              "2022-08-25  19.902599  19.957821  19.837099  19.902599  19.902599       0\n",
              "2022-08-26  19.919100  19.969419  19.858200  19.919100  19.919100       0\n",
              "2022-08-29  20.067801  20.145269  19.964100  20.067801  20.067801       0\n",
              "2022-08-30  19.984800  20.140301  19.898600  19.984800  19.984800       0\n",
              "2022-08-31  20.127300  20.236879  20.070299  20.127300  20.127300       0\n",
              "...               ...        ...        ...        ...        ...     ...\n",
              "2023-08-21  17.026100  17.076651  17.003799  17.026100  17.026100       0\n",
              "2023-08-22  17.012800  17.027100  16.882601  17.012800  17.012800       0\n",
              "2023-08-23  16.906450  16.909710  16.786301  16.906450  16.906450       0\n",
              "2023-08-24  16.779100  16.853540  16.756100  16.779100  16.779100       0\n",
              "2023-08-25  16.809999  16.831949  16.806999  16.826599  16.826599       0\n",
              "\n",
              "[262 rows x 6 columns]"
            ],
            "text/html": [
              "\n",
              "  <div id=\"df-f2fdbad8-fbe1-46dc-9da2-c2cf3fe2c960\" class=\"colab-df-container\">\n",
              "    <div>\n",
              "<style scoped>\n",
              "    .dataframe tbody tr th:only-of-type {\n",
              "        vertical-align: middle;\n",
              "    }\n",
              "\n",
              "    .dataframe tbody tr th {\n",
              "        vertical-align: top;\n",
              "    }\n",
              "\n",
              "    .dataframe thead th {\n",
              "        text-align: right;\n",
              "    }\n",
              "</style>\n",
              "<table border=\"1\" class=\"dataframe\">\n",
              "  <thead>\n",
              "    <tr style=\"text-align: right;\">\n",
              "      <th></th>\n",
              "      <th>Open</th>\n",
              "      <th>High</th>\n",
              "      <th>Low</th>\n",
              "      <th>Close</th>\n",
              "      <th>Adj Close</th>\n",
              "      <th>Volume</th>\n",
              "    </tr>\n",
              "    <tr>\n",
              "      <th>Date</th>\n",
              "      <th></th>\n",
              "      <th></th>\n",
              "      <th></th>\n",
              "      <th></th>\n",
              "      <th></th>\n",
              "      <th></th>\n",
              "    </tr>\n",
              "  </thead>\n",
              "  <tbody>\n",
              "    <tr>\n",
              "      <th>2022-08-25</th>\n",
              "      <td>19.902599</td>\n",
              "      <td>19.957821</td>\n",
              "      <td>19.837099</td>\n",
              "      <td>19.902599</td>\n",
              "      <td>19.902599</td>\n",
              "      <td>0</td>\n",
              "    </tr>\n",
              "    <tr>\n",
              "      <th>2022-08-26</th>\n",
              "      <td>19.919100</td>\n",
              "      <td>19.969419</td>\n",
              "      <td>19.858200</td>\n",
              "      <td>19.919100</td>\n",
              "      <td>19.919100</td>\n",
              "      <td>0</td>\n",
              "    </tr>\n",
              "    <tr>\n",
              "      <th>2022-08-29</th>\n",
              "      <td>20.067801</td>\n",
              "      <td>20.145269</td>\n",
              "      <td>19.964100</td>\n",
              "      <td>20.067801</td>\n",
              "      <td>20.067801</td>\n",
              "      <td>0</td>\n",
              "    </tr>\n",
              "    <tr>\n",
              "      <th>2022-08-30</th>\n",
              "      <td>19.984800</td>\n",
              "      <td>20.140301</td>\n",
              "      <td>19.898600</td>\n",
              "      <td>19.984800</td>\n",
              "      <td>19.984800</td>\n",
              "      <td>0</td>\n",
              "    </tr>\n",
              "    <tr>\n",
              "      <th>2022-08-31</th>\n",
              "      <td>20.127300</td>\n",
              "      <td>20.236879</td>\n",
              "      <td>20.070299</td>\n",
              "      <td>20.127300</td>\n",
              "      <td>20.127300</td>\n",
              "      <td>0</td>\n",
              "    </tr>\n",
              "    <tr>\n",
              "      <th>...</th>\n",
              "      <td>...</td>\n",
              "      <td>...</td>\n",
              "      <td>...</td>\n",
              "      <td>...</td>\n",
              "      <td>...</td>\n",
              "      <td>...</td>\n",
              "    </tr>\n",
              "    <tr>\n",
              "      <th>2023-08-21</th>\n",
              "      <td>17.026100</td>\n",
              "      <td>17.076651</td>\n",
              "      <td>17.003799</td>\n",
              "      <td>17.026100</td>\n",
              "      <td>17.026100</td>\n",
              "      <td>0</td>\n",
              "    </tr>\n",
              "    <tr>\n",
              "      <th>2023-08-22</th>\n",
              "      <td>17.012800</td>\n",
              "      <td>17.027100</td>\n",
              "      <td>16.882601</td>\n",
              "      <td>17.012800</td>\n",
              "      <td>17.012800</td>\n",
              "      <td>0</td>\n",
              "    </tr>\n",
              "    <tr>\n",
              "      <th>2023-08-23</th>\n",
              "      <td>16.906450</td>\n",
              "      <td>16.909710</td>\n",
              "      <td>16.786301</td>\n",
              "      <td>16.906450</td>\n",
              "      <td>16.906450</td>\n",
              "      <td>0</td>\n",
              "    </tr>\n",
              "    <tr>\n",
              "      <th>2023-08-24</th>\n",
              "      <td>16.779100</td>\n",
              "      <td>16.853540</td>\n",
              "      <td>16.756100</td>\n",
              "      <td>16.779100</td>\n",
              "      <td>16.779100</td>\n",
              "      <td>0</td>\n",
              "    </tr>\n",
              "    <tr>\n",
              "      <th>2023-08-25</th>\n",
              "      <td>16.809999</td>\n",
              "      <td>16.831949</td>\n",
              "      <td>16.806999</td>\n",
              "      <td>16.826599</td>\n",
              "      <td>16.826599</td>\n",
              "      <td>0</td>\n",
              "    </tr>\n",
              "  </tbody>\n",
              "</table>\n",
              "<p>262 rows × 6 columns</p>\n",
              "</div>\n",
              "    <div class=\"colab-df-buttons\">\n",
              "\n",
              "  <div class=\"colab-df-container\">\n",
              "    <button class=\"colab-df-convert\" onclick=\"convertToInteractive('df-f2fdbad8-fbe1-46dc-9da2-c2cf3fe2c960')\"\n",
              "            title=\"Convert this dataframe to an interactive table.\"\n",
              "            style=\"display:none;\">\n",
              "\n",
              "  <svg xmlns=\"http://www.w3.org/2000/svg\" height=\"24px\" viewBox=\"0 -960 960 960\">\n",
              "    <path d=\"M120-120v-720h720v720H120Zm60-500h600v-160H180v160Zm220 220h160v-160H400v160Zm0 220h160v-160H400v160ZM180-400h160v-160H180v160Zm440 0h160v-160H620v160ZM180-180h160v-160H180v160Zm440 0h160v-160H620v160Z\"/>\n",
              "  </svg>\n",
              "    </button>\n",
              "\n",
              "  <style>\n",
              "    .colab-df-container {\n",
              "      display:flex;\n",
              "      gap: 12px;\n",
              "    }\n",
              "\n",
              "    .colab-df-convert {\n",
              "      background-color: #E8F0FE;\n",
              "      border: none;\n",
              "      border-radius: 50%;\n",
              "      cursor: pointer;\n",
              "      display: none;\n",
              "      fill: #1967D2;\n",
              "      height: 32px;\n",
              "      padding: 0 0 0 0;\n",
              "      width: 32px;\n",
              "    }\n",
              "\n",
              "    .colab-df-convert:hover {\n",
              "      background-color: #E2EBFA;\n",
              "      box-shadow: 0px 1px 2px rgba(60, 64, 67, 0.3), 0px 1px 3px 1px rgba(60, 64, 67, 0.15);\n",
              "      fill: #174EA6;\n",
              "    }\n",
              "\n",
              "    .colab-df-buttons div {\n",
              "      margin-bottom: 4px;\n",
              "    }\n",
              "\n",
              "    [theme=dark] .colab-df-convert {\n",
              "      background-color: #3B4455;\n",
              "      fill: #D2E3FC;\n",
              "    }\n",
              "\n",
              "    [theme=dark] .colab-df-convert:hover {\n",
              "      background-color: #434B5C;\n",
              "      box-shadow: 0px 1px 3px 1px rgba(0, 0, 0, 0.15);\n",
              "      filter: drop-shadow(0px 1px 2px rgba(0, 0, 0, 0.3));\n",
              "      fill: #FFFFFF;\n",
              "    }\n",
              "  </style>\n",
              "\n",
              "    <script>\n",
              "      const buttonEl =\n",
              "        document.querySelector('#df-f2fdbad8-fbe1-46dc-9da2-c2cf3fe2c960 button.colab-df-convert');\n",
              "      buttonEl.style.display =\n",
              "        google.colab.kernel.accessAllowed ? 'block' : 'none';\n",
              "\n",
              "      async function convertToInteractive(key) {\n",
              "        const element = document.querySelector('#df-f2fdbad8-fbe1-46dc-9da2-c2cf3fe2c960');\n",
              "        const dataTable =\n",
              "          await google.colab.kernel.invokeFunction('convertToInteractive',\n",
              "                                                    [key], {});\n",
              "        if (!dataTable) return;\n",
              "\n",
              "        const docLinkHtml = 'Like what you see? Visit the ' +\n",
              "          '<a target=\"_blank\" href=https://colab.research.google.com/notebooks/data_table.ipynb>data table notebook</a>'\n",
              "          + ' to learn more about interactive tables.';\n",
              "        element.innerHTML = '';\n",
              "        dataTable['output_type'] = 'display_data';\n",
              "        await google.colab.output.renderOutput(dataTable, element);\n",
              "        const docLink = document.createElement('div');\n",
              "        docLink.innerHTML = docLinkHtml;\n",
              "        element.appendChild(docLink);\n",
              "      }\n",
              "    </script>\n",
              "  </div>\n",
              "\n",
              "\n",
              "<div id=\"df-9448de26-5294-4de8-95c8-ef1c20579930\">\n",
              "  <button class=\"colab-df-quickchart\" onclick=\"quickchart('df-9448de26-5294-4de8-95c8-ef1c20579930')\"\n",
              "            title=\"Suggest charts.\"\n",
              "            style=\"display:none;\">\n",
              "\n",
              "<svg xmlns=\"http://www.w3.org/2000/svg\" height=\"24px\"viewBox=\"0 0 24 24\"\n",
              "     width=\"24px\">\n",
              "    <g>\n",
              "        <path d=\"M19 3H5c-1.1 0-2 .9-2 2v14c0 1.1.9 2 2 2h14c1.1 0 2-.9 2-2V5c0-1.1-.9-2-2-2zM9 17H7v-7h2v7zm4 0h-2V7h2v10zm4 0h-2v-4h2v4z\"/>\n",
              "    </g>\n",
              "</svg>\n",
              "  </button>\n",
              "\n",
              "<style>\n",
              "  .colab-df-quickchart {\n",
              "    background-color: #E8F0FE;\n",
              "    border: none;\n",
              "    border-radius: 50%;\n",
              "    cursor: pointer;\n",
              "    display: none;\n",
              "    fill: #1967D2;\n",
              "    height: 32px;\n",
              "    padding: 0 0 0 0;\n",
              "    width: 32px;\n",
              "  }\n",
              "\n",
              "  .colab-df-quickchart:hover {\n",
              "    background-color: #E2EBFA;\n",
              "    box-shadow: 0px 1px 2px rgba(60, 64, 67, 0.3), 0px 1px 3px 1px rgba(60, 64, 67, 0.15);\n",
              "    fill: #174EA6;\n",
              "  }\n",
              "\n",
              "  [theme=dark] .colab-df-quickchart {\n",
              "    background-color: #3B4455;\n",
              "    fill: #D2E3FC;\n",
              "  }\n",
              "\n",
              "  [theme=dark] .colab-df-quickchart:hover {\n",
              "    background-color: #434B5C;\n",
              "    box-shadow: 0px 1px 3px 1px rgba(0, 0, 0, 0.15);\n",
              "    filter: drop-shadow(0px 1px 2px rgba(0, 0, 0, 0.3));\n",
              "    fill: #FFFFFF;\n",
              "  }\n",
              "</style>\n",
              "\n",
              "  <script>\n",
              "    async function quickchart(key) {\n",
              "      const charts = await google.colab.kernel.invokeFunction(\n",
              "          'suggestCharts', [key], {});\n",
              "    }\n",
              "    (() => {\n",
              "      let quickchartButtonEl =\n",
              "        document.querySelector('#df-9448de26-5294-4de8-95c8-ef1c20579930 button');\n",
              "      quickchartButtonEl.style.display =\n",
              "        google.colab.kernel.accessAllowed ? 'block' : 'none';\n",
              "    })();\n",
              "  </script>\n",
              "</div>\n",
              "    </div>\n",
              "  </div>\n"
            ]
          },
          "metadata": {},
          "execution_count": 8
        }
      ]
    },
    {
      "cell_type": "markdown",
      "source": [
        "# Primer experimento LSTM"
      ],
      "metadata": {
        "id": "dHac9auQ_KHY"
      }
    },
    {
      "cell_type": "code",
      "source": [],
      "metadata": {
        "id": "w8HU_FKb_IY-"
      },
      "execution_count": 8,
      "outputs": []
    },
    {
      "cell_type": "code",
      "source": [
        " #Cargar tus datos de serie de tiempo\n",
        "# Por ejemplo, asumiendo que tienes un DataFrame llamado 'data' con una columna 'precio_dolar_mxn'\n",
        "\n",
        "# Preprocesar los datos\n",
        "data = data[['Adj Close']]  # Seleccione la columna de interés\n",
        "scaler = MinMaxScaler()\n",
        "data['Adj Close'] = scaler.fit_transform(data[['Adj Close']])\n",
        "\n"
      ],
      "metadata": {
        "colab": {
          "base_uri": "https://localhost:8080/"
        },
        "id": "fkE7q7p1NGrt",
        "outputId": "dca0e595-e422-4a62-b286-7326dba504ef"
      },
      "execution_count": 9,
      "outputs": [
        {
          "output_type": "stream",
          "name": "stderr",
          "text": [
            "<ipython-input-9-aabb4fe2a836>:7: SettingWithCopyWarning: \n",
            "A value is trying to be set on a copy of a slice from a DataFrame.\n",
            "Try using .loc[row_indexer,col_indexer] = value instead\n",
            "\n",
            "See the caveats in the documentation: https://pandas.pydata.org/pandas-docs/stable/user_guide/indexing.html#returning-a-view-versus-a-copy\n",
            "  data['Adj Close'] = scaler.fit_transform(data[['Adj Close']])\n"
          ]
        }
      ]
    },
    {
      "cell_type": "code",
      "source": [
        "# Dividir los datos en conjuntos de entrenamiento y prueba\n",
        "train_size = int(len(data) * 0.8)\n",
        "train_data, test_data = data.iloc[:train_size], data.iloc[train_size:]"
      ],
      "metadata": {
        "id": "bxRj6RQlONQO"
      },
      "execution_count": 10,
      "outputs": []
    },
    {
      "cell_type": "code",
      "source": [
        "# Crear secuencias de tiempo para entrenamiento y prueba\n",
        "def create_sequences(data, seq_length):\n",
        "    sequences = []\n",
        "    for i in range(len(data) - seq_length):\n",
        "        seq = data.iloc[i:i+seq_length].values\n",
        "        sequences.append(seq)\n",
        "    return np.array(sequences)\n",
        "\n",
        "seq_length = 3  # Longitud de la secuencia de tiempo\n",
        "X_train = create_sequences(train_data, seq_length)\n",
        "y_train = train_data.iloc[seq_length:].values\n",
        "X_test = create_sequences(test_data, seq_length)\n",
        "y_test = test_data.iloc[seq_length:].values\n",
        "\n"
      ],
      "metadata": {
        "id": "Ah_Os8lvOQNa"
      },
      "execution_count": 11,
      "outputs": []
    },
    {
      "cell_type": "code",
      "source": [
        "# Construir el modelo LSTM\n",
        "model = Sequential()\n",
        "model.add(LSTM(units=50, activation='relu', input_shape=(seq_length, 1)))\n",
        "model.add(Dense(units=1))\n",
        "model.compile(optimizer='adam', loss='mean_squared_error')\n",
        "\n"
      ],
      "metadata": {
        "id": "ecQJ-phrOSfw"
      },
      "execution_count": 12,
      "outputs": []
    },
    {
      "cell_type": "code",
      "source": [
        "# Entrenar el modelo\n",
        "model.fit(X_train, y_train, epochs=101, batch_size=100)"
      ],
      "metadata": {
        "colab": {
          "base_uri": "https://localhost:8080/"
        },
        "id": "5j5tZTMhOWhe",
        "outputId": "adfd4bb7-7fab-48de-96ed-b4116d2f1e3b"
      },
      "execution_count": 13,
      "outputs": [
        {
          "output_type": "stream",
          "name": "stdout",
          "text": [
            "Epoch 1/101\n",
            "3/3 [==============================] - 4s 16ms/step - loss: 0.3939\n",
            "Epoch 2/101\n",
            "3/3 [==============================] - 0s 11ms/step - loss: 0.3691\n",
            "Epoch 3/101\n",
            "3/3 [==============================] - 0s 11ms/step - loss: 0.3455\n",
            "Epoch 4/101\n",
            "3/3 [==============================] - 0s 15ms/step - loss: 0.3218\n",
            "Epoch 5/101\n",
            "3/3 [==============================] - 0s 9ms/step - loss: 0.2984\n",
            "Epoch 6/101\n",
            "3/3 [==============================] - 0s 10ms/step - loss: 0.2752\n",
            "Epoch 7/101\n",
            "3/3 [==============================] - 0s 10ms/step - loss: 0.2523\n",
            "Epoch 8/101\n",
            "3/3 [==============================] - 0s 9ms/step - loss: 0.2300\n",
            "Epoch 9/101\n",
            "3/3 [==============================] - 0s 8ms/step - loss: 0.2074\n",
            "Epoch 10/101\n",
            "3/3 [==============================] - 0s 11ms/step - loss: 0.1855\n",
            "Epoch 11/101\n",
            "3/3 [==============================] - 0s 7ms/step - loss: 0.1639\n",
            "Epoch 12/101\n",
            "3/3 [==============================] - 0s 9ms/step - loss: 0.1423\n",
            "Epoch 13/101\n",
            "3/3 [==============================] - 0s 13ms/step - loss: 0.1215\n",
            "Epoch 14/101\n",
            "3/3 [==============================] - 0s 15ms/step - loss: 0.1012\n",
            "Epoch 15/101\n",
            "3/3 [==============================] - 0s 7ms/step - loss: 0.0825\n",
            "Epoch 16/101\n",
            "3/3 [==============================] - 0s 11ms/step - loss: 0.0646\n",
            "Epoch 17/101\n",
            "3/3 [==============================] - 0s 9ms/step - loss: 0.0482\n",
            "Epoch 18/101\n",
            "3/3 [==============================] - 0s 9ms/step - loss: 0.0344\n",
            "Epoch 19/101\n",
            "3/3 [==============================] - 0s 7ms/step - loss: 0.0234\n",
            "Epoch 20/101\n",
            "3/3 [==============================] - 0s 11ms/step - loss: 0.0155\n",
            "Epoch 21/101\n",
            "3/3 [==============================] - 0s 7ms/step - loss: 0.0103\n",
            "Epoch 22/101\n",
            "3/3 [==============================] - 0s 9ms/step - loss: 0.0081\n",
            "Epoch 23/101\n",
            "3/3 [==============================] - 0s 11ms/step - loss: 0.0079\n",
            "Epoch 24/101\n",
            "3/3 [==============================] - 0s 11ms/step - loss: 0.0087\n",
            "Epoch 25/101\n",
            "3/3 [==============================] - 0s 12ms/step - loss: 0.0093\n",
            "Epoch 26/101\n",
            "3/3 [==============================] - 0s 12ms/step - loss: 0.0091\n",
            "Epoch 27/101\n",
            "3/3 [==============================] - 0s 11ms/step - loss: 0.0082\n",
            "Epoch 28/101\n",
            "3/3 [==============================] - 0s 8ms/step - loss: 0.0073\n",
            "Epoch 29/101\n",
            "3/3 [==============================] - 0s 8ms/step - loss: 0.0066\n",
            "Epoch 30/101\n",
            "3/3 [==============================] - 0s 7ms/step - loss: 0.0063\n",
            "Epoch 31/101\n",
            "3/3 [==============================] - 0s 22ms/step - loss: 0.0062\n",
            "Epoch 32/101\n",
            "3/3 [==============================] - 0s 7ms/step - loss: 0.0061\n",
            "Epoch 33/101\n",
            "3/3 [==============================] - 0s 8ms/step - loss: 0.0059\n",
            "Epoch 34/101\n",
            "3/3 [==============================] - 0s 12ms/step - loss: 0.0057\n",
            "Epoch 35/101\n",
            "3/3 [==============================] - 0s 8ms/step - loss: 0.0054\n",
            "Epoch 36/101\n",
            "3/3 [==============================] - 0s 7ms/step - loss: 0.0052\n",
            "Epoch 37/101\n",
            "3/3 [==============================] - 0s 12ms/step - loss: 0.0050\n",
            "Epoch 38/101\n",
            "3/3 [==============================] - 0s 15ms/step - loss: 0.0047\n",
            "Epoch 39/101\n",
            "3/3 [==============================] - 0s 7ms/step - loss: 0.0045\n",
            "Epoch 40/101\n",
            "3/3 [==============================] - 0s 13ms/step - loss: 0.0043\n",
            "Epoch 41/101\n",
            "3/3 [==============================] - 0s 12ms/step - loss: 0.0041\n",
            "Epoch 42/101\n",
            "3/3 [==============================] - 0s 8ms/step - loss: 0.0038\n",
            "Epoch 43/101\n",
            "3/3 [==============================] - 0s 8ms/step - loss: 0.0036\n",
            "Epoch 44/101\n",
            "3/3 [==============================] - 0s 9ms/step - loss: 0.0034\n",
            "Epoch 45/101\n",
            "3/3 [==============================] - 0s 7ms/step - loss: 0.0032\n",
            "Epoch 46/101\n",
            "3/3 [==============================] - 0s 8ms/step - loss: 0.0031\n",
            "Epoch 47/101\n",
            "3/3 [==============================] - 0s 8ms/step - loss: 0.0029\n",
            "Epoch 48/101\n",
            "3/3 [==============================] - 0s 8ms/step - loss: 0.0027\n",
            "Epoch 49/101\n",
            "3/3 [==============================] - 0s 8ms/step - loss: 0.0025\n",
            "Epoch 50/101\n",
            "3/3 [==============================] - 0s 8ms/step - loss: 0.0024\n",
            "Epoch 51/101\n",
            "3/3 [==============================] - 0s 10ms/step - loss: 0.0023\n",
            "Epoch 52/101\n",
            "3/3 [==============================] - 0s 10ms/step - loss: 0.0022\n",
            "Epoch 53/101\n",
            "3/3 [==============================] - 0s 8ms/step - loss: 0.0021\n",
            "Epoch 54/101\n",
            "3/3 [==============================] - 0s 8ms/step - loss: 0.0020\n",
            "Epoch 55/101\n",
            "3/3 [==============================] - 0s 8ms/step - loss: 0.0020\n",
            "Epoch 56/101\n",
            "3/3 [==============================] - 0s 9ms/step - loss: 0.0019\n",
            "Epoch 57/101\n",
            "3/3 [==============================] - 0s 7ms/step - loss: 0.0018\n",
            "Epoch 58/101\n",
            "3/3 [==============================] - 0s 7ms/step - loss: 0.0018\n",
            "Epoch 59/101\n",
            "3/3 [==============================] - 0s 17ms/step - loss: 0.0018\n",
            "Epoch 60/101\n",
            "3/3 [==============================] - 0s 12ms/step - loss: 0.0018\n",
            "Epoch 61/101\n",
            "3/3 [==============================] - 0s 9ms/step - loss: 0.0017\n",
            "Epoch 62/101\n",
            "3/3 [==============================] - 0s 8ms/step - loss: 0.0017\n",
            "Epoch 63/101\n",
            "3/3 [==============================] - 0s 9ms/step - loss: 0.0017\n",
            "Epoch 64/101\n",
            "3/3 [==============================] - 0s 9ms/step - loss: 0.0017\n",
            "Epoch 65/101\n",
            "3/3 [==============================] - 0s 10ms/step - loss: 0.0017\n",
            "Epoch 66/101\n",
            "3/3 [==============================] - 0s 9ms/step - loss: 0.0017\n",
            "Epoch 67/101\n",
            "3/3 [==============================] - 0s 9ms/step - loss: 0.0017\n",
            "Epoch 68/101\n",
            "3/3 [==============================] - 0s 22ms/step - loss: 0.0017\n",
            "Epoch 69/101\n",
            "3/3 [==============================] - 0s 9ms/step - loss: 0.0017\n",
            "Epoch 70/101\n",
            "3/3 [==============================] - 0s 9ms/step - loss: 0.0017\n",
            "Epoch 71/101\n",
            "3/3 [==============================] - 0s 11ms/step - loss: 0.0017\n",
            "Epoch 72/101\n",
            "3/3 [==============================] - 0s 12ms/step - loss: 0.0017\n",
            "Epoch 73/101\n",
            "3/3 [==============================] - 0s 7ms/step - loss: 0.0017\n",
            "Epoch 74/101\n",
            "3/3 [==============================] - 0s 9ms/step - loss: 0.0017\n",
            "Epoch 75/101\n",
            "3/3 [==============================] - 0s 21ms/step - loss: 0.0017\n",
            "Epoch 76/101\n",
            "3/3 [==============================] - 0s 8ms/step - loss: 0.0017\n",
            "Epoch 77/101\n",
            "3/3 [==============================] - 0s 15ms/step - loss: 0.0017\n",
            "Epoch 78/101\n",
            "3/3 [==============================] - 0s 10ms/step - loss: 0.0017\n",
            "Epoch 79/101\n",
            "3/3 [==============================] - 0s 9ms/step - loss: 0.0017\n",
            "Epoch 80/101\n",
            "3/3 [==============================] - 0s 9ms/step - loss: 0.0018\n",
            "Epoch 81/101\n",
            "3/3 [==============================] - 0s 17ms/step - loss: 0.0019\n",
            "Epoch 82/101\n",
            "3/3 [==============================] - 0s 10ms/step - loss: 0.0018\n",
            "Epoch 83/101\n",
            "3/3 [==============================] - 0s 8ms/step - loss: 0.0017\n",
            "Epoch 84/101\n",
            "3/3 [==============================] - 0s 15ms/step - loss: 0.0017\n",
            "Epoch 85/101\n",
            "3/3 [==============================] - 0s 9ms/step - loss: 0.0017\n",
            "Epoch 86/101\n",
            "3/3 [==============================] - 0s 8ms/step - loss: 0.0017\n",
            "Epoch 87/101\n",
            "3/3 [==============================] - 0s 9ms/step - loss: 0.0017\n",
            "Epoch 88/101\n",
            "3/3 [==============================] - 0s 8ms/step - loss: 0.0017\n",
            "Epoch 89/101\n",
            "3/3 [==============================] - 0s 7ms/step - loss: 0.0016\n",
            "Epoch 90/101\n",
            "3/3 [==============================] - 0s 12ms/step - loss: 0.0016\n",
            "Epoch 91/101\n",
            "3/3 [==============================] - 0s 8ms/step - loss: 0.0017\n",
            "Epoch 92/101\n",
            "3/3 [==============================] - 0s 8ms/step - loss: 0.0017\n",
            "Epoch 93/101\n",
            "3/3 [==============================] - 0s 8ms/step - loss: 0.0016\n",
            "Epoch 94/101\n",
            "3/3 [==============================] - 0s 10ms/step - loss: 0.0016\n",
            "Epoch 95/101\n",
            "3/3 [==============================] - 0s 7ms/step - loss: 0.0017\n",
            "Epoch 96/101\n",
            "3/3 [==============================] - 0s 7ms/step - loss: 0.0017\n",
            "Epoch 97/101\n",
            "3/3 [==============================] - 0s 10ms/step - loss: 0.0016\n",
            "Epoch 98/101\n",
            "3/3 [==============================] - 0s 16ms/step - loss: 0.0016\n",
            "Epoch 99/101\n",
            "3/3 [==============================] - 0s 14ms/step - loss: 0.0016\n",
            "Epoch 100/101\n",
            "3/3 [==============================] - 0s 7ms/step - loss: 0.0016\n",
            "Epoch 101/101\n",
            "3/3 [==============================] - 0s 12ms/step - loss: 0.0017\n"
          ]
        },
        {
          "output_type": "execute_result",
          "data": {
            "text/plain": [
              "<keras.callbacks.History at 0x7c37460a91b0>"
            ]
          },
          "metadata": {},
          "execution_count": 13
        }
      ]
    },
    {
      "cell_type": "code",
      "source": [
        "# Evaluar el modelo en el conjunto de prueba\n",
        "test_loss = model.evaluate(X_test, y_test)\n",
        "print(f'Loss en el conjunto de prueba: {test_loss}')"
      ],
      "metadata": {
        "colab": {
          "base_uri": "https://localhost:8080/"
        },
        "id": "5dm690sVOYxB",
        "outputId": "caaf83ed-b212-442f-9d99-38d2e17d62b3"
      },
      "execution_count": 14,
      "outputs": [
        {
          "output_type": "stream",
          "name": "stdout",
          "text": [
            "2/2 [==============================] - 0s 7ms/step - loss: 0.0044\n",
            "Loss en el conjunto de prueba: 0.004359676036983728\n"
          ]
        }
      ]
    },
    {
      "cell_type": "code",
      "source": [
        "# Realizar predicciones en el conjunto de prueba\n",
        "predictions = model.predict(X_test)"
      ],
      "metadata": {
        "colab": {
          "base_uri": "https://localhost:8080/"
        },
        "id": "NSIL6Q_YOap_",
        "outputId": "41122339-845a-48e8-8987-02c79434c9b8"
      },
      "execution_count": 15,
      "outputs": [
        {
          "output_type": "stream",
          "name": "stdout",
          "text": [
            "2/2 [==============================] - 0s 8ms/step\n"
          ]
        }
      ]
    },
    {
      "cell_type": "code",
      "source": [
        "# Visualizar las predicciones\n",
        "plt.figure(figsize=(12, 6))\n",
        "plt.plot(scaler.inverse_transform(y_test), label='Datos reales')\n",
        "plt.plot(scaler.inverse_transform(predictions), label='Predicciones')\n",
        "plt.legend()\n",
        "plt.xlabel('Tiempo')\n",
        "plt.ylabel('Precio del dólar en pesos mexicanos')\n",
        "plt.show()"
      ],
      "metadata": {
        "colab": {
          "base_uri": "https://localhost:8080/",
          "height": 542
        },
        "id": "_dwxXgnxOcTR",
        "outputId": "6ad1fb43-4c4a-41b2-ef6a-a2c917bc232e"
      },
      "execution_count": 16,
      "outputs": [
        {
          "output_type": "display_data",
          "data": {
            "text/plain": [
              "<Figure size 1200x600 with 1 Axes>"
            ],
            "image/png": "[encoded data removed]"
          },
          "metadata": {}
        }
      ]
    },
    {
      "cell_type": "code",
      "source": [
        "from sklearn.metrics import mean_squared_error\n",
        "\n",
        "# Entrenar el modelo (asumiendo que ya lo has entrenado)\n",
        "\n",
        "# Hacer predicciones en el conjunto de prueba\n",
        "y_pred = model.predict(X_test)\n",
        "\n",
        "# Calcular el MSE\n",
        "mse = mean_squared_error(y_test, y_pred)\n",
        "print(f'Mean Squared Error (MSE): {mse}')\n"
      ],
      "metadata": {
        "colab": {
          "base_uri": "https://localhost:8080/"
        },
        "id": "cG8J3n82fcZ3",
        "outputId": "8155f012-5f4e-4f4e-fc7d-a5a29fac3a63"
      },
      "execution_count": 17,
      "outputs": [
        {
          "output_type": "stream",
          "name": "stdout",
          "text": [
            "2/2 [==============================] - 0s 6ms/step\n",
            "Mean Squared Error (MSE): 0.0043596759222783365\n"
          ]
        }
      ]
    },
    {
      "cell_type": "markdown",
      "source": [
        "# Segundo experimento"
      ],
      "metadata": {
        "id": "WPMht69q_VCX"
      }
    },
    {
      "cell_type": "code",
      "source": [
        "df"
      ],
      "metadata": {
        "colab": {
          "base_uri": "https://localhost:8080/",
          "height": 455
        },
        "id": "OpNFmABy_R7M",
        "outputId": "dd14f306-bf3b-41aa-b093-97c7bf816602"
      },
      "execution_count": 18,
      "outputs": [
        {
          "output_type": "execute_result",
          "data": {
            "text/plain": [
              "                 Open       High        Low      Close  Adj Close  Volume\n",
              "Date                                                                     \n",
              "2022-08-25  19.902599  19.957821  19.837099  19.902599  19.902599       0\n",
              "2022-08-26  19.919100  19.969419  19.858200  19.919100  19.919100       0\n",
              "2022-08-29  20.067801  20.145269  19.964100  20.067801  20.067801       0\n",
              "2022-08-30  19.984800  20.140301  19.898600  19.984800  19.984800       0\n",
              "2022-08-31  20.127300  20.236879  20.070299  20.127300  20.127300       0\n",
              "...               ...        ...        ...        ...        ...     ...\n",
              "2023-08-21  17.026100  17.076651  17.003799  17.026100  17.026100       0\n",
              "2023-08-22  17.012800  17.027100  16.882601  17.012800  17.012800       0\n",
              "2023-08-23  16.906450  16.909710  16.786301  16.906450  16.906450       0\n",
              "2023-08-24  16.779100  16.853540  16.756100  16.779100  16.779100       0\n",
              "2023-08-25  16.809999  16.831949  16.806999  16.826599  16.826599       0\n",
              "\n",
              "[262 rows x 6 columns]"
            ],
            "text/html": [
              "\n",
              "  <div id=\"df-28534bb2-8066-4a0f-9dd8-85aa30ab4adf\" class=\"colab-df-container\">\n",
              "    <div>\n",
              "<style scoped>\n",
              "    .dataframe tbody tr th:only-of-type {\n",
              "        vertical-align: middle;\n",
              "    }\n",
              "\n",
              "    .dataframe tbody tr th {\n",
              "        vertical-align: top;\n",
              "    }\n",
              "\n",
              "    .dataframe thead th {\n",
              "        text-align: right;\n",
              "    }\n",
              "</style>\n",
              "<table border=\"1\" class=\"dataframe\">\n",
              "  <thead>\n",
              "    <tr style=\"text-align: right;\">\n",
              "      <th></th>\n",
              "      <th>Open</th>\n",
              "      <th>High</th>\n",
              "      <th>Low</th>\n",
              "      <th>Close</th>\n",
              "      <th>Adj Close</th>\n",
              "      <th>Volume</th>\n",
              "    </tr>\n",
              "    <tr>\n",
              "      <th>Date</th>\n",
              "      <th></th>\n",
              "      <th></th>\n",
              "      <th></th>\n",
              "      <th></th>\n",
              "      <th></th>\n",
              "      <th></th>\n",
              "    </tr>\n",
              "  </thead>\n",
              "  <tbody>\n",
              "    <tr>\n",
              "      <th>2022-08-25</th>\n",
              "      <td>19.902599</td>\n",
              "      <td>19.957821</td>\n",
              "      <td>19.837099</td>\n",
              "      <td>19.902599</td>\n",
              "      <td>19.902599</td>\n",
              "      <td>0</td>\n",
              "    </tr>\n",
              "    <tr>\n",
              "      <th>2022-08-26</th>\n",
              "      <td>19.919100</td>\n",
              "      <td>19.969419</td>\n",
              "      <td>19.858200</td>\n",
              "      <td>19.919100</td>\n",
              "      <td>19.919100</td>\n",
              "      <td>0</td>\n",
              "    </tr>\n",
              "    <tr>\n",
              "      <th>2022-08-29</th>\n",
              "      <td>20.067801</td>\n",
              "      <td>20.145269</td>\n",
              "      <td>19.964100</td>\n",
              "      <td>20.067801</td>\n",
              "      <td>20.067801</td>\n",
              "      <td>0</td>\n",
              "    </tr>\n",
              "    <tr>\n",
              "      <th>2022-08-30</th>\n",
              "      <td>19.984800</td>\n",
              "      <td>20.140301</td>\n",
              "      <td>19.898600</td>\n",
              "      <td>19.984800</td>\n",
              "      <td>19.984800</td>\n",
              "      <td>0</td>\n",
              "    </tr>\n",
              "    <tr>\n",
              "      <th>2022-08-31</th>\n",
              "      <td>20.127300</td>\n",
              "      <td>20.236879</td>\n",
              "      <td>20.070299</td>\n",
              "      <td>20.127300</td>\n",
              "      <td>20.127300</td>\n",
              "      <td>0</td>\n",
              "    </tr>\n",
              "    <tr>\n",
              "      <th>...</th>\n",
              "      <td>...</td>\n",
              "      <td>...</td>\n",
              "      <td>...</td>\n",
              "      <td>...</td>\n",
              "      <td>...</td>\n",
              "      <td>...</td>\n",
              "    </tr>\n",
              "    <tr>\n",
              "      <th>2023-08-21</th>\n",
              "      <td>17.026100</td>\n",
              "      <td>17.076651</td>\n",
              "      <td>17.003799</td>\n",
              "      <td>17.026100</td>\n",
              "      <td>17.026100</td>\n",
              "      <td>0</td>\n",
              "    </tr>\n",
              "    <tr>\n",
              "      <th>2023-08-22</th>\n",
              "      <td>17.012800</td>\n",
              "      <td>17.027100</td>\n",
              "      <td>16.882601</td>\n",
              "      <td>17.012800</td>\n",
              "      <td>17.012800</td>\n",
              "      <td>0</td>\n",
              "    </tr>\n",
              "    <tr>\n",
              "      <th>2023-08-23</th>\n",
              "      <td>16.906450</td>\n",
              "      <td>16.909710</td>\n",
              "      <td>16.786301</td>\n",
              "      <td>16.906450</td>\n",
              "      <td>16.906450</td>\n",
              "      <td>0</td>\n",
              "    </tr>\n",
              "    <tr>\n",
              "      <th>2023-08-24</th>\n",
              "      <td>16.779100</td>\n",
              "      <td>16.853540</td>\n",
              "      <td>16.756100</td>\n",
              "      <td>16.779100</td>\n",
              "      <td>16.779100</td>\n",
              "      <td>0</td>\n",
              "    </tr>\n",
              "    <tr>\n",
              "      <th>2023-08-25</th>\n",
              "      <td>16.809999</td>\n",
              "      <td>16.831949</td>\n",
              "      <td>16.806999</td>\n",
              "      <td>16.826599</td>\n",
              "      <td>16.826599</td>\n",
              "      <td>0</td>\n",
              "    </tr>\n",
              "  </tbody>\n",
              "</table>\n",
              "<p>262 rows × 6 columns</p>\n",
              "</div>\n",
              "    <div class=\"colab-df-buttons\">\n",
              "\n",
              "  <div class=\"colab-df-container\">\n",
              "    <button class=\"colab-df-convert\" onclick=\"convertToInteractive('df-28534bb2-8066-4a0f-9dd8-85aa30ab4adf')\"\n",
              "            title=\"Convert this dataframe to an interactive table.\"\n",
              "            style=\"display:none;\">\n",
              "\n",
              "  <svg xmlns=\"http://www.w3.org/2000/svg\" height=\"24px\" viewBox=\"0 -960 960 960\">\n",
              "    <path d=\"M120-120v-720h720v720H120Zm60-500h600v-160H180v160Zm220 220h160v-160H400v160Zm0 220h160v-160H400v160ZM180-400h160v-160H180v160Zm440 0h160v-160H620v160ZM180-180h160v-160H180v160Zm440 0h160v-160H620v160Z\"/>\n",
              "  </svg>\n",
              "    </button>\n",
              "\n",
              "  <style>\n",
              "    .colab-df-container {\n",
              "      display:flex;\n",
              "      gap: 12px;\n",
              "    }\n",
              "\n",
              "    .colab-df-convert {\n",
              "      background-color: #E8F0FE;\n",
              "      border: none;\n",
              "      border-radius: 50%;\n",
              "      cursor: pointer;\n",
              "      display: none;\n",
              "      fill: #1967D2;\n",
              "      height: 32px;\n",
              "      padding: 0 0 0 0;\n",
              "      width: 32px;\n",
              "    }\n",
              "\n",
              "    .colab-df-convert:hover {\n",
              "      background-color: #E2EBFA;\n",
              "      box-shadow: 0px 1px 2px rgba(60, 64, 67, 0.3), 0px 1px 3px 1px rgba(60, 64, 67, 0.15);\n",
              "      fill: #174EA6;\n",
              "    }\n",
              "\n",
              "    .colab-df-buttons div {\n",
              "      margin-bottom: 4px;\n",
              "    }\n",
              "\n",
              "    [theme=dark] .colab-df-convert {\n",
              "      background-color: #3B4455;\n",
              "      fill: #D2E3FC;\n",
              "    }\n",
              "\n",
              "    [theme=dark] .colab-df-convert:hover {\n",
              "      background-color: #434B5C;\n",
              "      box-shadow: 0px 1px 3px 1px rgba(0, 0, 0, 0.15);\n",
              "      filter: drop-shadow(0px 1px 2px rgba(0, 0, 0, 0.3));\n",
              "      fill: #FFFFFF;\n",
              "    }\n",
              "  </style>\n",
              "\n",
              "    <script>\n",
              "      const buttonEl =\n",
              "        document.querySelector('#df-28534bb2-8066-4a0f-9dd8-85aa30ab4adf button.colab-df-convert');\n",
              "      buttonEl.style.display =\n",
              "        google.colab.kernel.accessAllowed ? 'block' : 'none';\n",
              "\n",
              "      async function convertToInteractive(key) {\n",
              "        const element = document.querySelector('#df-28534bb2-8066-4a0f-9dd8-85aa30ab4adf');\n",
              "        const dataTable =\n",
              "          await google.colab.kernel.invokeFunction('convertToInteractive',\n",
              "                                                    [key], {});\n",
              "        if (!dataTable) return;\n",
              "\n",
              "        const docLinkHtml = 'Like what you see? Visit the ' +\n",
              "          '<a target=\"_blank\" href=https://colab.research.google.com/notebooks/data_table.ipynb>data table notebook</a>'\n",
              "          + ' to learn more about interactive tables.';\n",
              "        element.innerHTML = '';\n",
              "        dataTable['output_type'] = 'display_data';\n",
              "        await google.colab.output.renderOutput(dataTable, element);\n",
              "        const docLink = document.createElement('div');\n",
              "        docLink.innerHTML = docLinkHtml;\n",
              "        element.appendChild(docLink);\n",
              "      }\n",
              "    </script>\n",
              "  </div>\n",
              "\n",
              "\n",
              "<div id=\"df-a26a0aee-14a9-4bd1-9064-ab072e0f8c1b\">\n",
              "  <button class=\"colab-df-quickchart\" onclick=\"quickchart('df-a26a0aee-14a9-4bd1-9064-ab072e0f8c1b')\"\n",
              "            title=\"Suggest charts.\"\n",
              "            style=\"display:none;\">\n",
              "\n",
              "<svg xmlns=\"http://www.w3.org/2000/svg\" height=\"24px\"viewBox=\"0 0 24 24\"\n",
              "     width=\"24px\">\n",
              "    <g>\n",
              "        <path d=\"M19 3H5c-1.1 0-2 .9-2 2v14c0 1.1.9 2 2 2h14c1.1 0 2-.9 2-2V5c0-1.1-.9-2-2-2zM9 17H7v-7h2v7zm4 0h-2V7h2v10zm4 0h-2v-4h2v4z\"/>\n",
              "    </g>\n",
              "</svg>\n",
              "  </button>\n",
              "\n",
              "<style>\n",
              "  .colab-df-quickchart {\n",
              "    background-color: #E8F0FE;\n",
              "    border: none;\n",
              "    border-radius: 50%;\n",
              "    cursor: pointer;\n",
              "    display: none;\n",
              "    fill: #1967D2;\n",
              "    height: 32px;\n",
              "    padding: 0 0 0 0;\n",
              "    width: 32px;\n",
              "  }\n",
              "\n",
              "  .colab-df-quickchart:hover {\n",
              "    background-color: #E2EBFA;\n",
              "    box-shadow: 0px 1px 2px rgba(60, 64, 67, 0.3), 0px 1px 3px 1px rgba(60, 64, 67, 0.15);\n",
              "    fill: #174EA6;\n",
              "  }\n",
              "\n",
              "  [theme=dark] .colab-df-quickchart {\n",
              "    background-color: #3B4455;\n",
              "    fill: #D2E3FC;\n",
              "  }\n",
              "\n",
              "  [theme=dark] .colab-df-quickchart:hover {\n",
              "    background-color: #434B5C;\n",
              "    box-shadow: 0px 1px 3px 1px rgba(0, 0, 0, 0.15);\n",
              "    filter: drop-shadow(0px 1px 2px rgba(0, 0, 0, 0.3));\n",
              "    fill: #FFFFFF;\n",
              "  }\n",
              "</style>\n",
              "\n",
              "  <script>\n",
              "    async function quickchart(key) {\n",
              "      const charts = await google.colab.kernel.invokeFunction(\n",
              "          'suggestCharts', [key], {});\n",
              "    }\n",
              "    (() => {\n",
              "      let quickchartButtonEl =\n",
              "        document.querySelector('#df-a26a0aee-14a9-4bd1-9064-ab072e0f8c1b button');\n",
              "      quickchartButtonEl.style.display =\n",
              "        google.colab.kernel.accessAllowed ? 'block' : 'none';\n",
              "    })();\n",
              "  </script>\n",
              "</div>\n",
              "    </div>\n",
              "  </div>\n"
            ]
          },
          "metadata": {},
          "execution_count": 18
        }
      ]
    },
    {
      "cell_type": "code",
      "source": [
        "# Cargar los datos históricos\n",
        "symbol = 'USDMXN=X'\n",
        "df = yf.download(symbol, period=\"1y\", interval=\"1d\")\n",
        "\n",
        "# Seleccionar la columna de interés (Precio de cierre ajustado)\n",
        "data = df[['Adj Close']]\n",
        "\n",
        "# Normalizar los datos entre 0 y 1\n",
        "scaler = MinMaxScaler()\n",
        "data['Adj Close'] = scaler.fit_transform(data[['Adj Close']])"
      ],
      "metadata": {
        "colab": {
          "base_uri": "https://localhost:8080/"
        },
        "id": "94sLz9DuGJ0V",
        "outputId": "e0ae0a27-f342-40ef-e301-17956e00435f"
      },
      "execution_count": 19,
      "outputs": [
        {
          "output_type": "stream",
          "name": "stdout",
          "text": [
            "\r[*********************100%%**********************]  1 of 1 completed\n"
          ]
        },
        {
          "output_type": "stream",
          "name": "stderr",
          "text": [
            "<ipython-input-19-1e50fb5cda64>:10: SettingWithCopyWarning: \n",
            "A value is trying to be set on a copy of a slice from a DataFrame.\n",
            "Try using .loc[row_indexer,col_indexer] = value instead\n",
            "\n",
            "See the caveats in the documentation: https://pandas.pydata.org/pandas-docs/stable/user_guide/indexing.html#returning-a-view-versus-a-copy\n",
            "  data['Adj Close'] = scaler.fit_transform(data[['Adj Close']])\n"
          ]
        }
      ]
    },
    {
      "cell_type": "markdown",
      "source": [
        "## Transformación y División"
      ],
      "metadata": {
        "id": "IXyi1MlaF0B_"
      }
    },
    {
      "cell_type": "code",
      "source": [
        "# Supongamos que 'data' contiene tus datos preprocesados de tipo de cambio\n",
        "# Define la longitud de la secuencia de tiempo\n",
        "seq_length = 3  # Puedes ajustar esto según tus necesidades\n",
        "\n",
        "# Crear secuencias de tiempo para entrenamiento\n",
        "def create_sequences(data, seq_length):\n",
        "    X = []\n",
        "    y = []\n",
        "    for i in range(len(data) - seq_length):\n",
        "        X.append(data.iloc[i:i+seq_length].values)\n",
        "        y.append(data.iloc[i+seq_length].values)\n",
        "    return np.array(X), np.array(y)\n",
        "\n",
        "X, y = create_sequences(data, seq_length)"
      ],
      "metadata": {
        "id": "5XLRMRkKIjvp"
      },
      "execution_count": 20,
      "outputs": []
    },
    {
      "cell_type": "code",
      "source": [
        "from sklearn.model_selection import train_test_split\n",
        "from sklearn.preprocessing import MinMaxScaler\n",
        "\n",
        "# Supongamos que 'data' contiene tus datos preprocesados de tipo de cambio\n",
        "\n",
        "# División de datos en conjuntos de entrenamiento, validación y prueba\n",
        "X_train, X_temp, y_train, y_temp = train_test_split(X, y, train_size=0.8, random_state=10, shuffle=False)\n",
        "X_val, X_test, y_val, y_test = train_test_split(X_temp, y_temp, train_size=0.5, random_state=10, shuffle=False)\n",
        "\n",
        "# Ahora tienes X_train, y_train para entrenamiento\n",
        "# X_val, y_val para validación\n",
        "# X_test, y_test para pruebas"
      ],
      "metadata": {
        "id": "hxVzJZIVFyCC"
      },
      "execution_count": 21,
      "outputs": []
    },
    {
      "cell_type": "markdown",
      "source": [
        "## Redes Neuronales"
      ],
      "metadata": {
        "id": "5aUIup22YoG3"
      }
    },
    {
      "cell_type": "code",
      "source": [
        "earlystop_cb = keras.callbacks.EarlyStopping(\n",
        "    patience = 25,\n",
        "    restore_best_weights = True\n",
        ")"
      ],
      "metadata": {
        "id": "72HBCCybYXxD"
      },
      "execution_count": 22,
      "outputs": []
    },
    {
      "cell_type": "code",
      "source": [
        "# Define la dimensión de fusión\n",
        "fusion_dim = 8\n",
        "\n",
        "# Definición de la entrada de precio\n",
        "price_input = layers.Input(shape=(seq_length, 1), name='price_input')  # La entrada es una secuencia de longitud seq_length\n",
        "\n",
        "# Definición de la capa LSTM\n",
        "lstm_layer = layers.LSTM(fusion_dim, name='lstm')(price_input)\n",
        "\n",
        "# Definición de la capa de predicción\n",
        "prediction_layer = keras.models.Sequential([\n",
        "    layers.Dense(8, activation='tanh'),\n",
        "    layers.Dense(8, activation='relu'),\n",
        "    layers.Dense(8, activation='sigmoid'),\n",
        "    layers.Dense(1, activation='linear')  # Se ajusta a la regresión, si es clasificación, cambia la activación y la dimensión de salida\n",
        "], name='prediction')\n",
        "\n",
        "# Salida de predicción\n",
        "prediction_output = prediction_layer(lstm_layer)\n",
        "\n",
        "# Creación del modelo\n",
        "model = keras.Model(inputs=[price_input], outputs=prediction_output)\n",
        "\n",
        "# Compilación del modelo\n",
        "model.compile(optimizer='adam', loss='mean_squared_error')  # Cambié la pérdida a 'mean_squared_error' para la regresión\n",
        "\n",
        "# Resumen del modelo\n",
        "model.summary()"
      ],
      "metadata": {
        "colab": {
          "base_uri": "https://localhost:8080/"
        },
        "id": "7oiSMzH7YW9h",
        "outputId": "8433cc05-3842-4054-d5be-b26436b046a4"
      },
      "execution_count": 23,
      "outputs": [
        {
          "output_type": "stream",
          "name": "stdout",
          "text": [
            "Model: \"model\"\n",
            "_________________________________________________________________\n",
            " Layer (type)                Output Shape              Param #   \n",
            "=================================================================\n",
            " price_input (InputLayer)    [(None, 3, 1)]            0         \n",
            "                                                                 \n",
            " lstm (LSTM)                 (None, 8)                 320       \n",
            "                                                                 \n",
            " prediction (Sequential)     (None, 1)                 225       \n",
            "                                                                 \n",
            "=================================================================\n",
            "Total params: 545\n",
            "Trainable params: 545\n",
            "Non-trainable params: 0\n",
            "_________________________________________________________________\n"
          ]
        }
      ]
    },
    {
      "cell_type": "code",
      "source": [
        "model_2 = keras.Model([price_input], prediction_output)\n",
        "\n",
        "model_2.compile(\n",
        "    loss = 'categorical_crossentropy'\n",
        ")\n",
        "\n",
        "model_2.summary()"
      ],
      "metadata": {
        "colab": {
          "base_uri": "https://localhost:8080/"
        },
        "id": "zyFxeaX6IiM3",
        "outputId": "9f025e54-c628-4e27-beb9-b2a7f70b11bb"
      },
      "execution_count": 24,
      "outputs": [
        {
          "output_type": "stream",
          "name": "stdout",
          "text": [
            "Model: \"model_1\"\n",
            "_________________________________________________________________\n",
            " Layer (type)                Output Shape              Param #   \n",
            "=================================================================\n",
            " price_input (InputLayer)    [(None, 3, 1)]            0         \n",
            "                                                                 \n",
            " lstm (LSTM)                 (None, 8)                 320       \n",
            "                                                                 \n",
            " prediction (Sequential)     (None, 1)                 225       \n",
            "                                                                 \n",
            "=================================================================\n",
            "Total params: 545\n",
            "Trainable params: 545\n",
            "Non-trainable params: 0\n",
            "_________________________________________________________________\n"
          ]
        }
      ]
    },
    {
      "cell_type": "code",
      "source": [],
      "metadata": {
        "id": "p-qNoAO-ckC7"
      },
      "execution_count": 24,
      "outputs": []
    },
    {
      "cell_type": "markdown",
      "source": [
        "# Visualization"
      ],
      "metadata": {
        "id": "P1IWluJ7cjN0"
      }
    },
    {
      "cell_type": "code",
      "source": [
        "# Visualización del modelo\n",
        "keras.utils.plot_model(\n",
        "    model,\n",
        "    to_file=\"model.png\",\n",
        "    show_shapes=True,\n",
        "    show_dtype=False,\n",
        "    show_layer_names=True,\n",
        "    rankdir=\"TD\",\n",
        "    dpi=100,\n",
        ")"
      ],
      "metadata": {
        "colab": {
          "base_uri": "https://localhost:8080/",
          "height": 324
        },
        "id": "gwGyr4D7cgnR",
        "outputId": "c38fc51e-65c6-4dd3-9684-bf1b7e961672"
      },
      "execution_count": 25,
      "outputs": [
        {
          "output_type": "execute_result",
          "data": {
            "image/png": "[encoded data removed]",
            "text/plain": [
              "<IPython.core.display.Image object>"
            ]
          },
          "metadata": {},
          "execution_count": 25
        }
      ]
    },
    {
      "cell_type": "code",
      "source": [
        "history = model.fit(\n",
        "    X_train, y_train,\n",
        "    batch_size = 100,\n",
        "    epochs = 100,  # Valor real de 1000\n",
        "    callbacks = [earlystop_cb],\n",
        "    validation_data = [X_val, y_val]\n",
        ").history"
      ],
      "metadata": {
        "colab": {
          "base_uri": "https://localhost:8080/"
        },
        "id": "aWpktlGlcgcR",
        "outputId": "40dbdc5b-1611-429f-b903-005c8eafc0af"
      },
      "execution_count": 26,
      "outputs": [
        {
          "output_type": "stream",
          "name": "stdout",
          "text": [
            "Epoch 1/100\n",
            "3/3 [==============================] - 7s 553ms/step - loss: 0.8416 - val_loss: 0.1330\n",
            "Epoch 2/100\n",
            "3/3 [==============================] - 0s 63ms/step - loss: 0.8077 - val_loss: 0.1194\n",
            "Epoch 3/100\n",
            "3/3 [==============================] - 0s 52ms/step - loss: 0.7731 - val_loss: 0.1064\n",
            "Epoch 4/100\n",
            "3/3 [==============================] - 0s 75ms/step - loss: 0.7387 - val_loss: 0.0939\n",
            "Epoch 5/100\n",
            "3/3 [==============================] - 0s 37ms/step - loss: 0.7042 - val_loss: 0.0821\n",
            "Epoch 6/100\n",
            "3/3 [==============================] - 0s 39ms/step - loss: 0.6703 - val_loss: 0.0709\n",
            "Epoch 7/100\n",
            "3/3 [==============================] - 0s 40ms/step - loss: 0.6362 - val_loss: 0.0604\n",
            "Epoch 8/100\n",
            "3/3 [==============================] - 0s 65ms/step - loss: 0.6027 - val_loss: 0.0507\n",
            "Epoch 9/100\n",
            "3/3 [==============================] - 0s 95ms/step - loss: 0.5695 - val_loss: 0.0418\n",
            "Epoch 10/100\n",
            "3/3 [==============================] - 0s 62ms/step - loss: 0.5366 - val_loss: 0.0336\n",
            "Epoch 11/100\n",
            "3/3 [==============================] - 0s 52ms/step - loss: 0.5045 - val_loss: 0.0263\n",
            "Epoch 12/100\n",
            "3/3 [==============================] - 0s 27ms/step - loss: 0.4724 - val_loss: 0.0199\n",
            "Epoch 13/100\n",
            "3/3 [==============================] - 0s 32ms/step - loss: 0.4414 - val_loss: 0.0144\n",
            "Epoch 14/100\n",
            "3/3 [==============================] - 0s 26ms/step - loss: 0.4105 - val_loss: 0.0098\n",
            "Epoch 15/100\n",
            "3/3 [==============================] - 0s 39ms/step - loss: 0.3808 - val_loss: 0.0061\n",
            "Epoch 16/100\n",
            "3/3 [==============================] - 0s 41ms/step - loss: 0.3515 - val_loss: 0.0035\n",
            "Epoch 17/100\n",
            "3/3 [==============================] - 0s 58ms/step - loss: 0.3231 - val_loss: 0.0020\n",
            "Epoch 18/100\n",
            "3/3 [==============================] - 0s 34ms/step - loss: 0.2952 - val_loss: 0.0015\n",
            "Epoch 19/100\n",
            "3/3 [==============================] - 0s 62ms/step - loss: 0.2682 - val_loss: 0.0021\n",
            "Epoch 20/100\n",
            "3/3 [==============================] - 0s 28ms/step - loss: 0.2412 - val_loss: 0.0041\n",
            "Epoch 21/100\n",
            "3/3 [==============================] - 0s 45ms/step - loss: 0.2154 - val_loss: 0.0073\n",
            "Epoch 22/100\n",
            "3/3 [==============================] - 0s 62ms/step - loss: 0.1909 - val_loss: 0.0119\n",
            "Epoch 23/100\n",
            "3/3 [==============================] - 0s 33ms/step - loss: 0.1679 - val_loss: 0.0177\n",
            "Epoch 24/100\n",
            "3/3 [==============================] - 0s 32ms/step - loss: 0.1462 - val_loss: 0.0250\n",
            "Epoch 25/100\n",
            "3/3 [==============================] - 0s 36ms/step - loss: 0.1262 - val_loss: 0.0336\n",
            "Epoch 26/100\n",
            "3/3 [==============================] - 0s 68ms/step - loss: 0.1080 - val_loss: 0.0435\n",
            "Epoch 27/100\n",
            "3/3 [==============================] - 0s 48ms/step - loss: 0.0918 - val_loss: 0.0544\n",
            "Epoch 28/100\n",
            "3/3 [==============================] - 0s 56ms/step - loss: 0.0780 - val_loss: 0.0669\n",
            "Epoch 29/100\n",
            "3/3 [==============================] - 0s 56ms/step - loss: 0.0657 - val_loss: 0.0798\n",
            "Epoch 30/100\n",
            "3/3 [==============================] - 0s 29ms/step - loss: 0.0562 - val_loss: 0.0933\n",
            "Epoch 31/100\n",
            "3/3 [==============================] - 0s 30ms/step - loss: 0.0488 - val_loss: 0.1076\n",
            "Epoch 32/100\n",
            "3/3 [==============================] - 0s 24ms/step - loss: 0.0435 - val_loss: 0.1219\n",
            "Epoch 33/100\n",
            "3/3 [==============================] - 0s 41ms/step - loss: 0.0395 - val_loss: 0.1349\n",
            "Epoch 34/100\n",
            "3/3 [==============================] - 0s 35ms/step - loss: 0.0373 - val_loss: 0.1464\n",
            "Epoch 35/100\n",
            "3/3 [==============================] - 0s 41ms/step - loss: 0.0359 - val_loss: 0.1562\n",
            "Epoch 36/100\n",
            "3/3 [==============================] - 0s 38ms/step - loss: 0.0354 - val_loss: 0.1651\n",
            "Epoch 37/100\n",
            "3/3 [==============================] - 0s 26ms/step - loss: 0.0354 - val_loss: 0.1718\n",
            "Epoch 38/100\n",
            "3/3 [==============================] - 0s 49ms/step - loss: 0.0355 - val_loss: 0.1752\n",
            "Epoch 39/100\n",
            "3/3 [==============================] - 0s 43ms/step - loss: 0.0356 - val_loss: 0.1769\n",
            "Epoch 40/100\n",
            "3/3 [==============================] - 0s 26ms/step - loss: 0.0356 - val_loss: 0.1760\n",
            "Epoch 41/100\n",
            "3/3 [==============================] - 0s 40ms/step - loss: 0.0354 - val_loss: 0.1741\n",
            "Epoch 42/100\n",
            "3/3 [==============================] - 0s 81ms/step - loss: 0.0351 - val_loss: 0.1714\n",
            "Epoch 43/100\n",
            "3/3 [==============================] - 0s 82ms/step - loss: 0.0347 - val_loss: 0.1670\n"
          ]
        }
      ]
    },
    {
      "cell_type": "code",
      "source": [
        "x = list(range(len(history['loss'])))\n",
        "\n",
        "fig = go.Figure()\n",
        "\n",
        "fig.add_trace(go.Scatter(x = x, y = history['loss'])) \\\n",
        "   .add_trace(go.Scatter(x = x, y = history['val_loss']))\n",
        "\n",
        "fig.show()"
      ],
      "metadata": {
        "colab": {
          "base_uri": "https://localhost:8080/",
          "height": 542
        },
        "id": "FGhmrjAMcgVL",
        "outputId": "11b91909-795c-4fb7-8fe8-b4ed58025193"
      },
      "execution_count": 27,
      "outputs": [
        {
          "output_type": "display_data",
          "data": {
            "text/html": [
              "<html>\n",
              "<head><meta charset=\"utf-8\" /></head>\n",
              "<body>\n",
              "    <div>            <script src=\"https://cdnjs.cloudflare.com/ajax/libs/mathjax/2.7.5/MathJax.js?config=TeX-AMS-MML_SVG\"></script><script type=\"text/javascript\">if (window.MathJax && window.MathJax.Hub && window.MathJax.Hub.Config) {window.MathJax.Hub.Config({SVG: {font: \"STIX-Web\"}});}</script>                <script type=\"text/javascript\">window.PlotlyConfig = {MathJaxConfig: 'local'};</script>\n",
              "        <script charset=\"utf-8\" src=\"https://cdn.plot.ly/plotly-2.24.1.min.js\"></script>                <div id=\"75b4a222-0adb-40c7-bc16-95dd40efef2d\" class=\"plotly-graph-div\" style=\"height:525px; width:100%;\"></div>            <script type=\"text/javascript\">                                    window.PLOTLYENV=window.PLOTLYENV || {};                                    if (document.getElementById(\"75b4a222-0adb-40c7-bc16-95dd40efef2d\")) {                    Plotly.newPlot(                        \"75b4a222-0adb-40c7-bc16-95dd40efef2d\",                        [{\"x\":[0,1,2,3,4,5,6,7,8,9,10,11,12,13,14,15,16,17,18,19,20,21,22,23,24,25,26,27,28,29,30,31,32,33,34,35,36,37,38,39,40,41,42],\"y\":[0.8415891528129578,0.8076720833778381,0.7730597257614136,0.7387320399284363,0.7042382955551147,0.6703457832336426,0.6361883878707886,0.6027186512947083,0.5694689750671387,0.5366438627243042,0.5045207142829895,0.47237375378608704,0.44136592745780945,0.41054287552833557,0.3808254897594452,0.3514702022075653,0.32305851578712463,0.2952435314655304,0.2682133615016937,0.24119149148464203,0.21537922322750092,0.19085615873336792,0.16788314282894135,0.14619135856628418,0.12620940804481506,0.10801313817501068,0.09175889194011688,0.0779651403427124,0.06570838391780853,0.05616125091910362,0.04879722371697426,0.04349289834499359,0.03954370319843292,0.037283554673194885,0.03587203845381737,0.03540175035595894,0.0353613942861557,0.035494349896907806,0.03564538434147835,0.03558577969670296,0.035386811941862106,0.035090021789073944,0.03473101556301117],\"type\":\"scatter\"},{\"x\":[0,1,2,3,4,5,6,7,8,9,10,11,12,13,14,15,16,17,18,19,20,21,22,23,24,25,26,27,28,29,30,31,32,33,34,35,36,37,38,39,40,41,42],\"y\":[0.13302062451839447,0.11941827833652496,0.10638535767793655,0.09391650557518005,0.08211879432201385,0.07093458622694016,0.06041063740849495,0.05067868530750275,0.041768111288547516,0.033624112606048584,0.026318680495023727,0.019935620948672295,0.014413253404200077,0.00977123249322176,0.0061270552687346935,0.003529825247824192,0.001975645776838064,0.0014823811361566186,0.002146057551726699,0.004061489831656218,0.00730162812396884,0.011850627139210701,0.01769034005701542,0.02495637536048889,0.03358729928731918,0.04345018044114113,0.0543789267539978,0.06691358983516693,0.07983323186635971,0.09326457232236862,0.10762327164411545,0.12191836535930634,0.13485687971115112,0.1463668942451477,0.15615496039390564,0.16505607962608337,0.17180146276950836,0.1751910299062729,0.17686432600021362,0.176048144698143,0.17412537336349487,0.17135201394557953,0.16698211431503296],\"type\":\"scatter\"}],                        {\"template\":{\"data\":{\"histogram2dcontour\":[{\"type\":\"histogram2dcontour\",\"colorbar\":{\"outlinewidth\":0,\"ticks\":\"\"},\"colorscale\":[[0.0,\"#0d0887\"],[0.1111111111111111,\"#46039f\"],[0.2222222222222222,\"#7201a8\"],[0.3333333333333333,\"#9c179e\"],[0.4444444444444444,\"#bd3786\"],[0.5555555555555556,\"#d8576b\"],[0.6666666666666666,\"#ed7953\"],[0.7777777777777778,\"#fb9f3a\"],[0.8888888888888888,\"#fdca26\"],[1.0,\"#f0f921\"]]}],\"choropleth\":[{\"type\":\"choropleth\",\"colorbar\":{\"outlinewidth\":0,\"ticks\":\"\"}}],\"histogram2d\":[{\"type\":\"histogram2d\",\"colorbar\":{\"outlinewidth\":0,\"ticks\":\"\"},\"colorscale\":[[0.0,\"#0d0887\"],[0.1111111111111111,\"#46039f\"],[0.2222222222222222,\"#7201a8\"],[0.3333333333333333,\"#9c179e\"],[0.4444444444444444,\"#bd3786\"],[0.5555555555555556,\"#d8576b\"],[0.6666666666666666,\"#ed7953\"],[0.7777777777777778,\"#fb9f3a\"],[0.8888888888888888,\"#fdca26\"],[1.0,\"#f0f921\"]]}],\"heatmap\":[{\"type\":\"heatmap\",\"colorbar\":{\"outlinewidth\":0,\"ticks\":\"\"},\"colorscale\":[[0.0,\"#0d0887\"],[0.1111111111111111,\"#46039f\"],[0.2222222222222222,\"#7201a8\"],[0.3333333333333333,\"#9c179e\"],[0.4444444444444444,\"#bd3786\"],[0.5555555555555556,\"#d8576b\"],[0.6666666666666666,\"#ed7953\"],[0.7777777777777778,\"#fb9f3a\"],[0.8888888888888888,\"#fdca26\"],[1.0,\"#f0f921\"]]}],\"heatmapgl\":[{\"type\":\"heatmapgl\",\"colorbar\":{\"outlinewidth\":0,\"ticks\":\"\"},\"colorscale\":[[0.0,\"#0d0887\"],[0.1111111111111111,\"#46039f\"],[0.2222222222222222,\"#7201a8\"],[0.3333333333333333,\"#9c179e\"],[0.4444444444444444,\"#bd3786\"],[0.5555555555555556,\"#d8576b\"],[0.6666666666666666,\"#ed7953\"],[0.7777777777777778,\"#fb9f3a\"],[0.8888888888888888,\"#fdca26\"],[1.0,\"#f0f921\"]]}],\"contourcarpet\":[{\"type\":\"contourcarpet\",\"colorbar\":{\"outlinewidth\":0,\"ticks\":\"\"}}],\"contour\":[{\"type\":\"contour\",\"colorbar\":{\"outlinewidth\":0,\"ticks\":\"\"},\"colorscale\":[[0.0,\"#0d0887\"],[0.1111111111111111,\"#46039f\"],[0.2222222222222222,\"#7201a8\"],[0.3333333333333333,\"#9c179e\"],[0.4444444444444444,\"#bd3786\"],[0.5555555555555556,\"#d8576b\"],[0.6666666666666666,\"#ed7953\"],[0.7777777777777778,\"#fb9f3a\"],[0.8888888888888888,\"#fdca26\"],[1.0,\"#f0f921\"]]}],\"surface\":[{\"type\":\"surface\",\"colorbar\":{\"outlinewidth\":0,\"ticks\":\"\"},\"colorscale\":[[0.0,\"#0d0887\"],[0.1111111111111111,\"#46039f\"],[0.2222222222222222,\"#7201a8\"],[0.3333333333333333,\"#9c179e\"],[0.4444444444444444,\"#bd3786\"],[0.5555555555555556,\"#d8576b\"],[0.6666666666666666,\"#ed7953\"],[0.7777777777777778,\"#fb9f3a\"],[0.8888888888888888,\"#fdca26\"],[1.0,\"#f0f921\"]]}],\"mesh3d\":[{\"type\":\"mesh3d\",\"colorbar\":{\"outlinewidth\":0,\"ticks\":\"\"}}],\"scatter\":[{\"fillpattern\":{\"fillmode\":\"overlay\",\"size\":10,\"solidity\":0.2},\"type\":\"scatter\"}],\"parcoords\":[{\"type\":\"parcoords\",\"line\":{\"colorbar\":{\"outlinewidth\":0,\"ticks\":\"\"}}}],\"scatterpolargl\":[{\"type\":\"scatterpolargl\",\"marker\":{\"colorbar\":{\"outlinewidth\":0,\"ticks\":\"\"}}}],\"bar\":[{\"error_x\":{\"color\":\"#2a3f5f\"},\"error_y\":{\"color\":\"#2a3f5f\"},\"marker\":{\"line\":{\"color\":\"#E5ECF6\",\"width\":0.5},\"pattern\":{\"fillmode\":\"overlay\",\"size\":10,\"solidity\":0.2}},\"type\":\"bar\"}],\"scattergeo\":[{\"type\":\"scattergeo\",\"marker\":{\"colorbar\":{\"outlinewidth\":0,\"ticks\":\"\"}}}],\"scatterpolar\":[{\"type\":\"scatterpolar\",\"marker\":{\"colorbar\":{\"outlinewidth\":0,\"ticks\":\"\"}}}],\"histogram\":[{\"marker\":{\"pattern\":{\"fillmode\":\"overlay\",\"size\":10,\"solidity\":0.2}},\"type\":\"histogram\"}],\"scattergl\":[{\"type\":\"scattergl\",\"marker\":{\"colorbar\":{\"outlinewidth\":0,\"ticks\":\"\"}}}],\"scatter3d\":[{\"type\":\"scatter3d\",\"line\":{\"colorbar\":{\"outlinewidth\":0,\"ticks\":\"\"}},\"marker\":{\"colorbar\":{\"outlinewidth\":0,\"ticks\":\"\"}}}],\"scattermapbox\":[{\"type\":\"scattermapbox\",\"marker\":{\"colorbar\":{\"outlinewidth\":0,\"ticks\":\"\"}}}],\"scatterternary\":[{\"type\":\"scatterternary\",\"marker\":{\"colorbar\":{\"outlinewidth\":0,\"ticks\":\"\"}}}],\"scattercarpet\":[{\"type\":\"scattercarpet\",\"marker\":{\"colorbar\":{\"outlinewidth\":0,\"ticks\":\"\"}}}],\"carpet\":[{\"aaxis\":{\"endlinecolor\":\"#2a3f5f\",\"gridcolor\":\"white\",\"linecolor\":\"white\",\"minorgridcolor\":\"white\",\"startlinecolor\":\"#2a3f5f\"},\"baxis\":{\"endlinecolor\":\"#2a3f5f\",\"gridcolor\":\"white\",\"linecolor\":\"white\",\"minorgridcolor\":\"white\",\"startlinecolor\":\"#2a3f5f\"},\"type\":\"carpet\"}],\"table\":[{\"cells\":{\"fill\":{\"color\":\"#EBF0F8\"},\"line\":{\"color\":\"white\"}},\"header\":{\"fill\":{\"color\":\"#C8D4E3\"},\"line\":{\"color\":\"white\"}},\"type\":\"table\"}],\"barpolar\":[{\"marker\":{\"line\":{\"color\":\"#E5ECF6\",\"width\":0.5},\"pattern\":{\"fillmode\":\"overlay\",\"size\":10,\"solidity\":0.2}},\"type\":\"barpolar\"}],\"pie\":[{\"automargin\":true,\"type\":\"pie\"}]},\"layout\":{\"autotypenumbers\":\"strict\",\"colorway\":[\"#636efa\",\"#EF553B\",\"#00cc96\",\"#ab63fa\",\"#FFA15A\",\"#19d3f3\",\"#FF6692\",\"#B6E880\",\"#FF97FF\",\"#FECB52\"],\"font\":{\"color\":\"#2a3f5f\"},\"hovermode\":\"closest\",\"hoverlabel\":{\"align\":\"left\"},\"paper_bgcolor\":\"white\",\"plot_bgcolor\":\"#E5ECF6\",\"polar\":{\"bgcolor\":\"#E5ECF6\",\"angularaxis\":{\"gridcolor\":\"white\",\"linecolor\":\"white\",\"ticks\":\"\"},\"radialaxis\":{\"gridcolor\":\"white\",\"linecolor\":\"white\",\"ticks\":\"\"}},\"ternary\":{\"bgcolor\":\"#E5ECF6\",\"aaxis\":{\"gridcolor\":\"white\",\"linecolor\":\"white\",\"ticks\":\"\"},\"baxis\":{\"gridcolor\":\"white\",\"linecolor\":\"white\",\"ticks\":\"\"},\"caxis\":{\"gridcolor\":\"white\",\"linecolor\":\"white\",\"ticks\":\"\"}},\"coloraxis\":{\"colorbar\":{\"outlinewidth\":0,\"ticks\":\"\"}},\"colorscale\":{\"sequential\":[[0.0,\"#0d0887\"],[0.1111111111111111,\"#46039f\"],[0.2222222222222222,\"#7201a8\"],[0.3333333333333333,\"#9c179e\"],[0.4444444444444444,\"#bd3786\"],[0.5555555555555556,\"#d8576b\"],[0.6666666666666666,\"#ed7953\"],[0.7777777777777778,\"#fb9f3a\"],[0.8888888888888888,\"#fdca26\"],[1.0,\"#f0f921\"]],\"sequentialminus\":[[0.0,\"#0d0887\"],[0.1111111111111111,\"#46039f\"],[0.2222222222222222,\"#7201a8\"],[0.3333333333333333,\"#9c179e\"],[0.4444444444444444,\"#bd3786\"],[0.5555555555555556,\"#d8576b\"],[0.6666666666666666,\"#ed7953\"],[0.7777777777777778,\"#fb9f3a\"],[0.8888888888888888,\"#fdca26\"],[1.0,\"#f0f921\"]],\"diverging\":[[0,\"#8e0152\"],[0.1,\"#c51b7d\"],[0.2,\"#de77ae\"],[0.3,\"#f1b6da\"],[0.4,\"#fde0ef\"],[0.5,\"#f7f7f7\"],[0.6,\"#e6f5d0\"],[0.7,\"#b8e186\"],[0.8,\"#7fbc41\"],[0.9,\"#4d9221\"],[1,\"#276419\"]]},\"xaxis\":{\"gridcolor\":\"white\",\"linecolor\":\"white\",\"ticks\":\"\",\"title\":{\"standoff\":15},\"zerolinecolor\":\"white\",\"automargin\":true,\"zerolinewidth\":2},\"yaxis\":{\"gridcolor\":\"white\",\"linecolor\":\"white\",\"ticks\":\"\",\"title\":{\"standoff\":15},\"zerolinecolor\":\"white\",\"automargin\":true,\"zerolinewidth\":2},\"scene\":{\"xaxis\":{\"backgroundcolor\":\"#E5ECF6\",\"gridcolor\":\"white\",\"linecolor\":\"white\",\"showbackground\":true,\"ticks\":\"\",\"zerolinecolor\":\"white\",\"gridwidth\":2},\"yaxis\":{\"backgroundcolor\":\"#E5ECF6\",\"gridcolor\":\"white\",\"linecolor\":\"white\",\"showbackground\":true,\"ticks\":\"\",\"zerolinecolor\":\"white\",\"gridwidth\":2},\"zaxis\":{\"backgroundcolor\":\"#E5ECF6\",\"gridcolor\":\"white\",\"linecolor\":\"white\",\"showbackground\":true,\"ticks\":\"\",\"zerolinecolor\":\"white\",\"gridwidth\":2}},\"shapedefaults\":{\"line\":{\"color\":\"#2a3f5f\"}},\"annotationdefaults\":{\"arrowcolor\":\"#2a3f5f\",\"arrowhead\":0,\"arrowwidth\":1},\"geo\":{\"bgcolor\":\"white\",\"landcolor\":\"#E5ECF6\",\"subunitcolor\":\"white\",\"showland\":true,\"showlakes\":true,\"lakecolor\":\"white\"},\"title\":{\"x\":0.05},\"mapbox\":{\"style\":\"light\"}}}},                        {\"responsive\": true}                    ).then(function(){\n",
              "                            \n",
              "var gd = document.getElementById('75b4a222-0adb-40c7-bc16-95dd40efef2d');\n",
              "var x = new MutationObserver(function (mutations, observer) {{\n",
              "        var display = window.getComputedStyle(gd).display;\n",
              "        if (!display || display === 'none') {{\n",
              "            console.log([gd, 'removed!']);\n",
              "            Plotly.purge(gd);\n",
              "            observer.disconnect();\n",
              "        }}\n",
              "}});\n",
              "\n",
              "// Listen for the removal of the full notebook cells\n",
              "var notebookContainer = gd.closest('#notebook-container');\n",
              "if (notebookContainer) {{\n",
              "    x.observe(notebookContainer, {childList: true});\n",
              "}}\n",
              "\n",
              "// Listen for the clearing of the current output cell\n",
              "var outputEl = gd.closest('.output');\n",
              "if (outputEl) {{\n",
              "    x.observe(outputEl, {childList: true});\n",
              "}}\n",
              "\n",
              "                        })                };                            </script>        </div>\n",
              "</body>\n",
              "</html>"
            ]
          },
          "metadata": {}
        }
      ]
    },
    {
      "cell_type": "code",
      "source": [
        "evaluate_model(model, [X_train, y_train], [X_val, y_val], [X_test, y_test])"
      ],
      "metadata": {
        "colab": {
          "base_uri": "https://localhost:8080/"
        },
        "id": "luI3Pj4Bcf_3",
        "outputId": "1a2d2cc6-80e5-49d9-dfcb-8cf0483f4d7b"
      },
      "execution_count": 28,
      "outputs": [
        {
          "output_type": "stream",
          "name": "stdout",
          "text": [
            "train cross_entropy =  0.27322688698768616\n",
            "  val cross_entropy =  0.0014823811361566186\n",
            " test cross_entropy =  0.0016040571499615908\n"
          ]
        }
      ]
    },
    {
      "cell_type": "code",
      "source": [
        "model.save('best_model.h5')"
      ],
      "metadata": {
        "id": "v_0prvDkdb83"
      },
      "execution_count": 29,
      "outputs": []
    },
    {
      "cell_type": "code",
      "source": [
        "best_model = keras.models.load_model('best_model.h5')\n",
        "best_model.summary()"
      ],
      "metadata": {
        "colab": {
          "base_uri": "https://localhost:8080/"
        },
        "id": "JXmJmu6QdbsO",
        "outputId": "96e84663-4116-425b-d9c7-7054df465153"
      },
      "execution_count": 30,
      "outputs": [
        {
          "output_type": "stream",
          "name": "stdout",
          "text": [
            "Model: \"model\"\n",
            "_________________________________________________________________\n",
            " Layer (type)                Output Shape              Param #   \n",
            "=================================================================\n",
            " price_input (InputLayer)    [(None, 3, 1)]            0         \n",
            "                                                                 \n",
            " lstm (LSTM)                 (None, 8)                 320       \n",
            "                                                                 \n",
            " prediction (Sequential)     (None, 1)                 225       \n",
            "                                                                 \n",
            "=================================================================\n",
            "Total params: 545\n",
            "Trainable params: 545\n",
            "Non-trainable params: 0\n",
            "_________________________________________________________________\n"
          ]
        }
      ]
    },
    {
      "cell_type": "code",
      "source": [
        "from sklearn.metrics import mean_squared_error\n",
        "# Hacer predicciones en el conjunto de prueba\n",
        "y_pred = model.predict(X_test)\n",
        "\n",
        "# Calcular el MSE\n",
        "mse = mean_squared_error(y_test, y_pred)\n",
        "print(f'Mean Squared Error (MSE): {mse}')"
      ],
      "metadata": {
        "colab": {
          "base_uri": "https://localhost:8080/"
        },
        "id": "cMs2bVEidbQ1",
        "outputId": "76f55cbe-57be-464c-8753-e11fd695789e"
      },
      "execution_count": 31,
      "outputs": [
        {
          "output_type": "stream",
          "name": "stdout",
          "text": [
            "1/1 [==============================] - 1s 762ms/step\n",
            "Mean Squared Error (MSE): 0.0016040567707956246\n"
          ]
        }
      ]
    },
    {
      "cell_type": "markdown",
      "source": [
        "# Experimento ARIMA"
      ],
      "metadata": {
        "id": "nSbPCww6PvBH"
      }
    },
    {
      "cell_type": "code",
      "source": [
        "#Paquetes\n",
        "import numpy as np\n",
        "import pandas as pd\n",
        "import matplotlib.pyplot as plt\n",
        "from statsmodels.tsa.arima.model import ARIMA\n",
        "from sklearn.metrics import mean_squared_error"
      ],
      "metadata": {
        "id": "Vva0KcyYOwfI"
      },
      "execution_count": 32,
      "outputs": []
    },
    {
      "cell_type": "code",
      "source": [
        "df"
      ],
      "metadata": {
        "colab": {
          "base_uri": "https://localhost:8080/",
          "height": 455
        },
        "id": "pxNAIGZbRRSY",
        "outputId": "fc822c12-6efd-4485-e97b-82b3d2e41465"
      },
      "execution_count": 33,
      "outputs": [
        {
          "output_type": "execute_result",
          "data": {
            "text/plain": [
              "                 Open       High        Low      Close  Adj Close  Volume\n",
              "Date                                                                     \n",
              "2022-08-25  19.902599  19.957821  19.837099  19.902599  19.902599       0\n",
              "2022-08-26  19.919100  19.969419  19.858200  19.919100  19.919100       0\n",
              "2022-08-29  20.067801  20.145269  19.964100  20.067801  20.067801       0\n",
              "2022-08-30  19.984800  20.140301  19.898600  19.984800  19.984800       0\n",
              "2022-08-31  20.127300  20.236879  20.070299  20.127300  20.127300       0\n",
              "...               ...        ...        ...        ...        ...     ...\n",
              "2023-08-21  17.026100  17.076651  17.003799  17.026100  17.026100       0\n",
              "2023-08-22  17.012800  17.027100  16.882601  17.012800  17.012800       0\n",
              "2023-08-23  16.906450  16.909710  16.786301  16.906450  16.906450       0\n",
              "2023-08-24  16.779100  16.853540  16.756100  16.779100  16.779100       0\n",
              "2023-08-25  16.809999  16.831949  16.806999  16.823200  16.823200       0\n",
              "\n",
              "[262 rows x 6 columns]"
            ],
            "text/html": [
              "\n",
              "  <div id=\"df-0730d74a-203b-461c-a3a8-ceae871a1cb1\" class=\"colab-df-container\">\n",
              "    <div>\n",
              "<style scoped>\n",
              "    .dataframe tbody tr th:only-of-type {\n",
              "        vertical-align: middle;\n",
              "    }\n",
              "\n",
              "    .dataframe tbody tr th {\n",
              "        vertical-align: top;\n",
              "    }\n",
              "\n",
              "    .dataframe thead th {\n",
              "        text-align: right;\n",
              "    }\n",
              "</style>\n",
              "<table border=\"1\" class=\"dataframe\">\n",
              "  <thead>\n",
              "    <tr style=\"text-align: right;\">\n",
              "      <th></th>\n",
              "      <th>Open</th>\n",
              "      <th>High</th>\n",
              "      <th>Low</th>\n",
              "      <th>Close</th>\n",
              "      <th>Adj Close</th>\n",
              "      <th>Volume</th>\n",
              "    </tr>\n",
              "    <tr>\n",
              "      <th>Date</th>\n",
              "      <th></th>\n",
              "      <th></th>\n",
              "      <th></th>\n",
              "      <th></th>\n",
              "      <th></th>\n",
              "      <th></th>\n",
              "    </tr>\n",
              "  </thead>\n",
              "  <tbody>\n",
              "    <tr>\n",
              "      <th>2022-08-25</th>\n",
              "      <td>19.902599</td>\n",
              "      <td>19.957821</td>\n",
              "      <td>19.837099</td>\n",
              "      <td>19.902599</td>\n",
              "      <td>19.902599</td>\n",
              "      <td>0</td>\n",
              "    </tr>\n",
              "    <tr>\n",
              "      <th>2022-08-26</th>\n",
              "      <td>19.919100</td>\n",
              "      <td>19.969419</td>\n",
              "      <td>19.858200</td>\n",
              "      <td>19.919100</td>\n",
              "      <td>19.919100</td>\n",
              "      <td>0</td>\n",
              "    </tr>\n",
              "    <tr>\n",
              "      <th>2022-08-29</th>\n",
              "      <td>20.067801</td>\n",
              "      <td>20.145269</td>\n",
              "      <td>19.964100</td>\n",
              "      <td>20.067801</td>\n",
              "      <td>20.067801</td>\n",
              "      <td>0</td>\n",
              "    </tr>\n",
              "    <tr>\n",
              "      <th>2022-08-30</th>\n",
              "      <td>19.984800</td>\n",
              "      <td>20.140301</td>\n",
              "      <td>19.898600</td>\n",
              "      <td>19.984800</td>\n",
              "      <td>19.984800</td>\n",
              "      <td>0</td>\n",
              "    </tr>\n",
              "    <tr>\n",
              "      <th>2022-08-31</th>\n",
              "      <td>20.127300</td>\n",
              "      <td>20.236879</td>\n",
              "      <td>20.070299</td>\n",
              "      <td>20.127300</td>\n",
              "      <td>20.127300</td>\n",
              "      <td>0</td>\n",
              "    </tr>\n",
              "    <tr>\n",
              "      <th>...</th>\n",
              "      <td>...</td>\n",
              "      <td>...</td>\n",
              "      <td>...</td>\n",
              "      <td>...</td>\n",
              "      <td>...</td>\n",
              "      <td>...</td>\n",
              "    </tr>\n",
              "    <tr>\n",
              "      <th>2023-08-21</th>\n",
              "      <td>17.026100</td>\n",
              "      <td>17.076651</td>\n",
              "      <td>17.003799</td>\n",
              "      <td>17.026100</td>\n",
              "      <td>17.026100</td>\n",
              "      <td>0</td>\n",
              "    </tr>\n",
              "    <tr>\n",
              "      <th>2023-08-22</th>\n",
              "      <td>17.012800</td>\n",
              "      <td>17.027100</td>\n",
              "      <td>16.882601</td>\n",
              "      <td>17.012800</td>\n",
              "      <td>17.012800</td>\n",
              "      <td>0</td>\n",
              "    </tr>\n",
              "    <tr>\n",
              "      <th>2023-08-23</th>\n",
              "      <td>16.906450</td>\n",
              "      <td>16.909710</td>\n",
              "      <td>16.786301</td>\n",
              "      <td>16.906450</td>\n",
              "      <td>16.906450</td>\n",
              "      <td>0</td>\n",
              "    </tr>\n",
              "    <tr>\n",
              "      <th>2023-08-24</th>\n",
              "      <td>16.779100</td>\n",
              "      <td>16.853540</td>\n",
              "      <td>16.756100</td>\n",
              "      <td>16.779100</td>\n",
              "      <td>16.779100</td>\n",
              "      <td>0</td>\n",
              "    </tr>\n",
              "    <tr>\n",
              "      <th>2023-08-25</th>\n",
              "      <td>16.809999</td>\n",
              "      <td>16.831949</td>\n",
              "      <td>16.806999</td>\n",
              "      <td>16.823200</td>\n",
              "      <td>16.823200</td>\n",
              "      <td>0</td>\n",
              "    </tr>\n",
              "  </tbody>\n",
              "</table>\n",
              "<p>262 rows × 6 columns</p>\n",
              "</div>\n",
              "    <div class=\"colab-df-buttons\">\n",
              "\n",
              "  <div class=\"colab-df-container\">\n",
              "    <button class=\"colab-df-convert\" onclick=\"convertToInteractive('df-0730d74a-203b-461c-a3a8-ceae871a1cb1')\"\n",
              "            title=\"Convert this dataframe to an interactive table.\"\n",
              "            style=\"display:none;\">\n",
              "\n",
              "  <svg xmlns=\"http://www.w3.org/2000/svg\" height=\"24px\" viewBox=\"0 -960 960 960\">\n",
              "    <path d=\"M120-120v-720h720v720H120Zm60-500h600v-160H180v160Zm220 220h160v-160H400v160Zm0 220h160v-160H400v160ZM180-400h160v-160H180v160Zm440 0h160v-160H620v160ZM180-180h160v-160H180v160Zm440 0h160v-160H620v160Z\"/>\n",
              "  </svg>\n",
              "    </button>\n",
              "\n",
              "  <style>\n",
              "    .colab-df-container {\n",
              "      display:flex;\n",
              "      gap: 12px;\n",
              "    }\n",
              "\n",
              "    .colab-df-convert {\n",
              "      background-color: #E8F0FE;\n",
              "      border: none;\n",
              "      border-radius: 50%;\n",
              "      cursor: pointer;\n",
              "      display: none;\n",
              "      fill: #1967D2;\n",
              "      height: 32px;\n",
              "      padding: 0 0 0 0;\n",
              "      width: 32px;\n",
              "    }\n",
              "\n",
              "    .colab-df-convert:hover {\n",
              "      background-color: #E2EBFA;\n",
              "      box-shadow: 0px 1px 2px rgba(60, 64, 67, 0.3), 0px 1px 3px 1px rgba(60, 64, 67, 0.15);\n",
              "      fill: #174EA6;\n",
              "    }\n",
              "\n",
              "    .colab-df-buttons div {\n",
              "      margin-bottom: 4px;\n",
              "    }\n",
              "\n",
              "    [theme=dark] .colab-df-convert {\n",
              "      background-color: #3B4455;\n",
              "      fill: #D2E3FC;\n",
              "    }\n",
              "\n",
              "    [theme=dark] .colab-df-convert:hover {\n",
              "      background-color: #434B5C;\n",
              "      box-shadow: 0px 1px 3px 1px rgba(0, 0, 0, 0.15);\n",
              "      filter: drop-shadow(0px 1px 2px rgba(0, 0, 0, 0.3));\n",
              "      fill: #FFFFFF;\n",
              "    }\n",
              "  </style>\n",
              "\n",
              "    <script>\n",
              "      const buttonEl =\n",
              "        document.querySelector('#df-0730d74a-203b-461c-a3a8-ceae871a1cb1 button.colab-df-convert');\n",
              "      buttonEl.style.display =\n",
              "        google.colab.kernel.accessAllowed ? 'block' : 'none';\n",
              "\n",
              "      async function convertToInteractive(key) {\n",
              "        const element = document.querySelector('#df-0730d74a-203b-461c-a3a8-ceae871a1cb1');\n",
              "        const dataTable =\n",
              "          await google.colab.kernel.invokeFunction('convertToInteractive',\n",
              "                                                    [key], {});\n",
              "        if (!dataTable) return;\n",
              "\n",
              "        const docLinkHtml = 'Like what you see? Visit the ' +\n",
              "          '<a target=\"_blank\" href=https://colab.research.google.com/notebooks/data_table.ipynb>data table notebook</a>'\n",
              "          + ' to learn more about interactive tables.';\n",
              "        element.innerHTML = '';\n",
              "        dataTable['output_type'] = 'display_data';\n",
              "        await google.colab.output.renderOutput(dataTable, element);\n",
              "        const docLink = document.createElement('div');\n",
              "        docLink.innerHTML = docLinkHtml;\n",
              "        element.appendChild(docLink);\n",
              "      }\n",
              "    </script>\n",
              "  </div>\n",
              "\n",
              "\n",
              "<div id=\"df-b7940b7d-aaae-419b-8201-8b7668cd30d2\">\n",
              "  <button class=\"colab-df-quickchart\" onclick=\"quickchart('df-b7940b7d-aaae-419b-8201-8b7668cd30d2')\"\n",
              "            title=\"Suggest charts.\"\n",
              "            style=\"display:none;\">\n",
              "\n",
              "<svg xmlns=\"http://www.w3.org/2000/svg\" height=\"24px\"viewBox=\"0 0 24 24\"\n",
              "     width=\"24px\">\n",
              "    <g>\n",
              "        <path d=\"M19 3H5c-1.1 0-2 .9-2 2v14c0 1.1.9 2 2 2h14c1.1 0 2-.9 2-2V5c0-1.1-.9-2-2-2zM9 17H7v-7h2v7zm4 0h-2V7h2v10zm4 0h-2v-4h2v4z\"/>\n",
              "    </g>\n",
              "</svg>\n",
              "  </button>\n",
              "\n",
              "<style>\n",
              "  .colab-df-quickchart {\n",
              "    background-color: #E8F0FE;\n",
              "    border: none;\n",
              "    border-radius: 50%;\n",
              "    cursor: pointer;\n",
              "    display: none;\n",
              "    fill: #1967D2;\n",
              "    height: 32px;\n",
              "    padding: 0 0 0 0;\n",
              "    width: 32px;\n",
              "  }\n",
              "\n",
              "  .colab-df-quickchart:hover {\n",
              "    background-color: #E2EBFA;\n",
              "    box-shadow: 0px 1px 2px rgba(60, 64, 67, 0.3), 0px 1px 3px 1px rgba(60, 64, 67, 0.15);\n",
              "    fill: #174EA6;\n",
              "  }\n",
              "\n",
              "  [theme=dark] .colab-df-quickchart {\n",
              "    background-color: #3B4455;\n",
              "    fill: #D2E3FC;\n",
              "  }\n",
              "\n",
              "  [theme=dark] .colab-df-quickchart:hover {\n",
              "    background-color: #434B5C;\n",
              "    box-shadow: 0px 1px 3px 1px rgba(0, 0, 0, 0.15);\n",
              "    filter: drop-shadow(0px 1px 2px rgba(0, 0, 0, 0.3));\n",
              "    fill: #FFFFFF;\n",
              "  }\n",
              "</style>\n",
              "\n",
              "  <script>\n",
              "    async function quickchart(key) {\n",
              "      const charts = await google.colab.kernel.invokeFunction(\n",
              "          'suggestCharts', [key], {});\n",
              "    }\n",
              "    (() => {\n",
              "      let quickchartButtonEl =\n",
              "        document.querySelector('#df-b7940b7d-aaae-419b-8201-8b7668cd30d2 button');\n",
              "      quickchartButtonEl.style.display =\n",
              "        google.colab.kernel.accessAllowed ? 'block' : 'none';\n",
              "    })();\n",
              "  </script>\n",
              "</div>\n",
              "    </div>\n",
              "  </div>\n"
            ]
          },
          "metadata": {},
          "execution_count": 33
        }
      ]
    },
    {
      "cell_type": "code",
      "source": [
        "df[\"Close\"]"
      ],
      "metadata": {
        "colab": {
          "base_uri": "https://localhost:8080/"
        },
        "id": "JolvdnxJ-d2t",
        "outputId": "6d5ae545-32b3-47aa-d041-7262ce03e357"
      },
      "execution_count": 34,
      "outputs": [
        {
          "output_type": "execute_result",
          "data": {
            "text/plain": [
              "Date\n",
              "2022-08-25    19.902599\n",
              "2022-08-26    19.919100\n",
              "2022-08-29    20.067801\n",
              "2022-08-30    19.984800\n",
              "2022-08-31    20.127300\n",
              "                ...    \n",
              "2023-08-21    17.026100\n",
              "2023-08-22    17.012800\n",
              "2023-08-23    16.906450\n",
              "2023-08-24    16.779100\n",
              "2023-08-25    16.823200\n",
              "Name: Close, Length: 262, dtype: float64"
            ]
          },
          "metadata": {},
          "execution_count": 34
        }
      ]
    },
    {
      "cell_type": "code",
      "source": [
        "data=df.copy()"
      ],
      "metadata": {
        "id": "Sb-pFlw5RTsx"
      },
      "execution_count": 35,
      "outputs": []
    },
    {
      "cell_type": "code",
      "source": [
        "# Cargar tus datos de serie de tiempo\n",
        "# Por ejemplo, asumiendo que tienes un DataFrame llamado 'data' con una columna 'precio_dolar_mxn'\n",
        "\n",
        "# Preprocesar los datos (si es necesario)\n",
        "data = data[['Close']]"
      ],
      "metadata": {
        "id": "lXU2Oi0lP2lD"
      },
      "execution_count": 36,
      "outputs": []
    },
    {
      "cell_type": "code",
      "source": [
        "# Dividir los datos en conjuntos de entrenamiento y prueba\n",
        "train_size = int(len(data) * 0.8)\n",
        "train_data, test_data = data.iloc[:train_size], data.iloc[train_size:]\n",
        "\n"
      ],
      "metadata": {
        "id": "89SvYsidP8fU"
      },
      "execution_count": 37,
      "outputs": []
    },
    {
      "cell_type": "code",
      "source": [
        "# Ajustar un modelo ARIMA\n",
        "order = (1, 1, 1)  # Parámetros ARIMA (p, d, q)\n",
        "model = ARIMA(train_data, order=order)\n",
        "model_fit = model.fit()\n",
        "\n"
      ],
      "metadata": {
        "colab": {
          "base_uri": "https://localhost:8080/"
        },
        "id": "XPtHZrs9P-XW",
        "outputId": "93438226-aa69-4e63-cb44-02f47f4b8653"
      },
      "execution_count": 38,
      "outputs": [
        {
          "output_type": "stream",
          "name": "stderr",
          "text": [
            "/usr/local/lib/python3.10/dist-packages/statsmodels/tsa/base/tsa_model.py:473: ValueWarning:\n",
            "\n",
            "No frequency information was provided, so inferred frequency B will be used.\n",
            "\n",
            "/usr/local/lib/python3.10/dist-packages/statsmodels/tsa/base/tsa_model.py:473: ValueWarning:\n",
            "\n",
            "No frequency information was provided, so inferred frequency B will be used.\n",
            "\n",
            "/usr/local/lib/python3.10/dist-packages/statsmodels/tsa/base/tsa_model.py:473: ValueWarning:\n",
            "\n",
            "No frequency information was provided, so inferred frequency B will be used.\n",
            "\n"
          ]
        }
      ]
    },
    {
      "cell_type": "code",
      "source": [
        "# Realizar predicciones\n",
        "predictions = model_fit.predict(start=len(train_data), end=len(train_data) + len(test_data) - 1, typ='levels')\n",
        "\n"
      ],
      "metadata": {
        "colab": {
          "base_uri": "https://localhost:8080/"
        },
        "id": "akEb1zGPP__U",
        "outputId": "896e134e-24e2-4a81-e188-d26cce4e4b0f"
      },
      "execution_count": 39,
      "outputs": [
        {
          "output_type": "stream",
          "name": "stderr",
          "text": [
            "/usr/local/lib/python3.10/dist-packages/statsmodels/tsa/statespace/representation.py:374: FutureWarning:\n",
            "\n",
            "Unknown keyword arguments: dict_keys(['typ']).Passing unknown keyword arguments will raise a TypeError beginning in version 0.15.\n",
            "\n"
          ]
        }
      ]
    },
    {
      "cell_type": "code",
      "source": [
        "# Evaluar el modelo\n",
        "test_values = test_data['Close'].values\n",
        "mse = mean_squared_error(test_values, predictions)\n",
        "rmse = np.sqrt(mse)\n",
        "print(f'Error cuadrático medio (RMSE): {rmse}')\n",
        "\n"
      ],
      "metadata": {
        "colab": {
          "base_uri": "https://localhost:8080/"
        },
        "id": "ZETdRqQPQBwr",
        "outputId": "e40a23ce-a94b-4202-a0a7-80f2efbd077c"
      },
      "execution_count": 40,
      "outputs": [
        {
          "output_type": "stream",
          "name": "stdout",
          "text": [
            "Error cuadrático medio (RMSE): 0.3133858309089213\n"
          ]
        }
      ]
    },
    {
      "cell_type": "code",
      "source": [
        "# Visualizar las predicciones\n",
        "plt.figure(figsize=(12, 6))\n",
        "plt.plot(test_values, label='Datos reales')\n",
        "plt.plot(predictions, label='Predicciones')\n",
        "plt.legend()\n",
        "plt.xlabel('Tiempo')\n",
        "plt.ylabel('Precio del dólar en pesos mexicanos')\n",
        "plt.show()"
      ],
      "metadata": {
        "colab": {
          "base_uri": "https://localhost:8080/",
          "height": 542
        },
        "id": "67YdW1H5QDxi",
        "outputId": "59b21290-0c3c-49b8-8de7-faa220a05c8a"
      },
      "execution_count": 41,
      "outputs": [
        {
          "output_type": "display_data",
          "data": {
            "text/plain": [
              "<Figure size 1200x600 with 1 Axes>"
            ],
            "image/png": "[encoded data removed]"
          },
          "metadata": {}
        }
      ]
    },
    {
      "cell_type": "code",
      "source": [
        "r"
      ],
      "metadata": {
        "colab": {
          "base_uri": "https://localhost:8080/",
          "height": 176
        },
        "id": "xYbMAMNggFgh",
        "outputId": "b3f4e777-8346-4ba2-a4b4-0cde9e222779"
      },
      "execution_count": 42,
      "outputs": [
        {
          "output_type": "error",
          "ename": "NameError",
          "evalue": "ignored",
          "traceback": [
            "\u001b[0;31m---------------------------------------------------------------------------\u001b[0m",
            "\u001b[0;31mNameError\u001b[0m                                 Traceback (most recent call last)",
            "\u001b[0;32m<ipython-input-42-d17ca1acc36c>\u001b[0m in \u001b[0;36m<cell line: 1>\u001b[0;34m()\u001b[0m\n\u001b[0;32m----> 1\u001b[0;31m \u001b[0mr\u001b[0m\u001b[0;34m\u001b[0m\u001b[0;34m\u001b[0m\u001b[0m\n\u001b[0m",
            "\u001b[0;31mNameError\u001b[0m: name 'r' is not defined"
          ]
        }
      ]
    },
    {
      "cell_type": "markdown",
      "source": [
        "# Crear un portafolio de varias divisas"
      ],
      "metadata": {
        "id": "NzRdqdr6gEZ1"
      }
    },
    {
      "cell_type": "code",
      "source": [],
      "metadata": {
        "id": "Degp-0vJkN9L"
      },
      "execution_count": null,
      "outputs": []
    },
    {
      "cell_type": "code",
      "source": [
        "data = yf.download(  # or pdr.get_data_yahoo(...\n",
        "        # tickers list or string as well\n",
        "        tickers = \"USDMXN=X EURUSD=X JPYUSD=X GBPUSD=X AUDUSD=X\",\n",
        "\n",
        "        # use \"period\" instead of start/end\n",
        "        # valid periods: 1d,5d,1mo,3mo,6mo,1y,2y,5y,10y,ytd,max\n",
        "        # (optional, default is '1mo')\n",
        "        period = \"1y\",\n",
        "\n",
        "        # fetch data by interval (including intraday if period < 60 days)\n",
        "        # valid intervals: 1m,2m,5m,15m,30m,60m,90m,1h,1d,5d,1wk,1mo,3mo\n",
        "        # (optional, default is '1d')\n",
        "        interval = \"1d\",\n",
        "\n",
        "        # group by ticker (to access via data['SPY'])\n",
        "        # (optional, default is 'column')\n",
        "        # group_by = 'ticker',\n",
        "    ).loc[:, 'Adj Close']\n",
        "data"
      ],
      "metadata": {
        "id": "Rd4z3ffvg28p"
      },
      "execution_count": null,
      "outputs": []
    },
    {
      "cell_type": "code",
      "source": [
        "closing_prices=data.copy()\n",
        "closing_prices"
      ],
      "metadata": {
        "id": "Jz0iyVw4hgfg"
      },
      "execution_count": null,
      "outputs": []
    },
    {
      "cell_type": "code",
      "source": [
        "closing_prices.shift()\n",
        "#Sirve para desplazar un período +1 hacia adelante"
      ],
      "metadata": {
        "id": "_eJAqR8HgVPz"
      },
      "execution_count": null,
      "outputs": []
    },
    {
      "cell_type": "code",
      "source": [
        "annual_returns = np.log(closing_prices / closing_prices.shift()) / (1 / 252) # Para anualizar los retornos, los días hábiles cuando se abre la plataforma son 252\n",
        "annual_returns"
      ],
      "metadata": {
        "id": "KWjwXJg6hZFv"
      },
      "execution_count": null,
      "outputs": []
    },
    {
      "cell_type": "code",
      "source": [
        "#la media de los retornos anuales\n",
        "mean_returns = annual_returns.mean()\n",
        "mean_returns"
      ],
      "metadata": {
        "id": "XWd9lu18iGv1"
      },
      "execution_count": null,
      "outputs": []
    },
    {
      "cell_type": "code",
      "source": [
        "#covarianza de los retornos anuales de diferentes acciones\n",
        "cov_returns = annual_returns.cov()\n",
        "cov_returns"
      ],
      "metadata": {
        "id": "aTV0-E3tiUI0"
      },
      "execution_count": null,
      "outputs": []
    },
    {
      "cell_type": "code",
      "source": [
        "correlation_matrix = annual_returns.corr()\n",
        "correlation_matrix"
      ],
      "metadata": {
        "id": "MIp0oZ5oiXK9"
      },
      "execution_count": null,
      "outputs": []
    },
    {
      "cell_type": "code",
      "source": [
        "mean_returns"
      ],
      "metadata": {
        "id": "Capwl-Mciayt"
      },
      "execution_count": null,
      "outputs": []
    },
    {
      "cell_type": "markdown",
      "source": [
        "# Markovitz"
      ],
      "metadata": {
        "id": "ZMLX69Sak4Sj"
      }
    },
    {
      "cell_type": "code",
      "source": [
        "#creo una cantidad de matrices de 6*6 con zeros\n",
        "#los weights2 es una matriz que contiene solo unos en la diagonal y el resto zeros y tamb de tamaño 6*6\n",
        "np.random.seed(1995)\n",
        "\n",
        "#N = 10000\n",
        "N = 6  ##seis muestras\n",
        "\n",
        "k = annual_returns.shape[1]\n",
        "\n",
        "weights = np.zeros((N, k))\n",
        "returns = np.zeros(N)\n",
        "volatilities = np.zeros(N)\n",
        "sharpe_ratios = np.zeros(N)\n",
        "\n",
        "weights2 = np.array([[1,0,0,0,0],\n",
        "                     [0,1,0,0,0],\n",
        "                     [0,0,1,0,0],\n",
        "                     [0,0,0,1,0],\n",
        "                     [0,0,0,0,1]])\n",
        "\n",
        "weights2.shape"
      ],
      "metadata": {
        "id": "meni-HKpidqY"
      },
      "execution_count": null,
      "outputs": []
    },
    {
      "cell_type": "code",
      "source": [
        "weights2.shape"
      ],
      "metadata": {
        "id": "EDJTB_w4pXc4"
      },
      "execution_count": null,
      "outputs": []
    },
    {
      "cell_type": "code",
      "source": [
        "k"
      ],
      "metadata": {
        "id": "FAa10Bkpohq7"
      },
      "execution_count": null,
      "outputs": []
    },
    {
      "cell_type": "code",
      "source": [
        "for i in range(N):\n",
        "    w = np.random.random(k)\n",
        "    w /= np.sum(w)\n",
        "\n",
        "    #w = weights2[i]  ##\n",
        "    #weights[i, :] = weights2[i]  ##\n",
        "\n",
        "    weights[i, :] = w\n",
        "\n",
        "    returns[i] = np.dot(mean_returns, w)\n",
        "\n",
        "    volatilities[i] = np.sqrt(np.dot(w.T, np.dot(cov_returns, w))) # w.T @ cov_returns @ w\n",
        "\n",
        "    sharpe_ratios[i] = returns[i] / volatilities[i]"
      ],
      "metadata": {
        "id": "0VimVGYfk_Fl"
      },
      "execution_count": null,
      "outputs": []
    },
    {
      "cell_type": "code",
      "source": [
        "import matplotlib.pyplot as plt\n",
        "import plotly.express as px\n",
        "\n",
        "px.scatter(x = volatilities, y = returns, color = sharpe_ratios,\n",
        "           labels={\n",
        "                     \"x\": \"Volatilidad\",\n",
        "                     \"y\": \"Retorno\",\n",
        "                     \"color\": \"Razón de Sharpe\"\n",
        "                 }\n",
        "           )\n",
        "#plt.scatter(volatilities, returns, c = sharpe_ratios)"
      ],
      "metadata": {
        "id": "0NbKvDnGlEsX"
      },
      "execution_count": null,
      "outputs": []
    },
    {
      "cell_type": "markdown",
      "source": [
        "## Optimización de portafolio"
      ],
      "metadata": {
        "id": "reQsniznl4Ym"
      }
    },
    {
      "cell_type": "code",
      "source": [
        "mu_star = .1"
      ],
      "metadata": {
        "id": "e9xXcJ2BlIAf"
      },
      "execution_count": null,
      "outputs": []
    },
    {
      "cell_type": "code",
      "source": [
        "import cvxopt as opt\n",
        "G = opt.matrix(-np.concatenate([mean_returns.to_numpy().reshape(1, k),np.eye(k)]), tc = 'd')\n",
        "h = opt.matrix(np.concatenate([np.array([-mu_star]).reshape((1, 1)), np.zeros((k, 1))]), tc = 'd')\n",
        "q = opt.matrix(0.0, (k, 1))\n",
        "A = opt.matrix(1.0, (1, k))\n",
        "b = opt.matrix(1.0)\n",
        "P = opt.matrix(2 * cov_returns.to_numpy(), tc = 'd')"
      ],
      "metadata": {
        "id": "7eyEjy8Ml_oY"
      },
      "execution_count": null,
      "outputs": []
    },
    {
      "cell_type": "code",
      "source": [
        "P, q, G, h, A, b"
      ],
      "metadata": {
        "id": "CuVKuQvton7G"
      },
      "execution_count": null,
      "outputs": []
    },
    {
      "cell_type": "code",
      "source": [
        "results = opt.solvers.qp(P, q, G, h, A, b)\n",
        "results"
      ],
      "metadata": {
        "id": "6mHxfze3mDNR"
      },
      "execution_count": null,
      "outputs": []
    },
    {
      "cell_type": "code",
      "source": [],
      "metadata": {
        "id": "cvKNeQpTmV_i"
      },
      "execution_count": null,
      "outputs": []
    }
  ]
}