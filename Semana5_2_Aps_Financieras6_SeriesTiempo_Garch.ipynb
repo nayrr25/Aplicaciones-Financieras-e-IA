{
  "nbformat": 4,
  "nbformat_minor": 0,
  "metadata": {
    "colab": {
      "provenance": [],
      "include_colab_link": true
    },
    "kernelspec": {
      "name": "python3",
      "display_name": "Python 3"
    },
    "language_info": {
      "name": "python"
    }
  },
  "cells": [
    {
      "cell_type": "markdown",
      "metadata": {
        "id": "view-in-github",
        "colab_type": "text"
      },
      "source": [
        "<a href=\"https://colab.research.google.com/github/nayrr25/Aplicaciones-Financieras-e-IA/blob/main/Semana5_2_Aps_Financieras6_SeriesTiempo_Garch.ipynb\" target=\"_parent\"><img src=\"https://colab.research.google.com/assets/colab-badge.svg\" alt=\"Open In Colab\"/></a>"
      ]
    },
    {
      "cell_type": "markdown",
      "source": [
        "[![Open In Colab](https://colab.research.google.com/assets/colab-badge.svg)](https://colab.research.google.com/github/MaxMitre/Aplicaciones-Financieras/blob/main/Semana5/2_ARMA_y_GARCH.ipynb)"
      ],
      "metadata": {
        "id": "F65HoSF4RLIP"
      }
    },
    {
      "cell_type": "code",
      "source": [
        "!pip install pmdarima"
      ],
      "metadata": {
        "id": "3lz8oCCylHKQ",
        "colab": {
          "base_uri": "https://localhost:8080/"
        },
        "outputId": "ed203a60-8fb4-4038-a916-c84516728050"
      },
      "execution_count": 1,
      "outputs": [
        {
          "output_type": "stream",
          "name": "stdout",
          "text": [
            "Collecting pmdarima\n",
            "  Downloading pmdarima-2.0.3-cp310-cp310-manylinux_2_17_x86_64.manylinux2014_x86_64.manylinux_2_28_x86_64.whl (1.8 MB)\n",
            "\u001b[2K     \u001b[90m━━━━━━━━━━━━━━━━━━━━━━━━━━━━━━━━━━━━━━━━\u001b[0m \u001b[32m1.8/1.8 MB\u001b[0m \u001b[31m7.4 MB/s\u001b[0m eta \u001b[36m0:00:00\u001b[0m\n",
            "\u001b[?25hRequirement already satisfied: joblib>=0.11 in /usr/local/lib/python3.10/dist-packages (from pmdarima) (1.3.1)\n",
            "Requirement already satisfied: Cython!=0.29.18,!=0.29.31,>=0.29 in /usr/local/lib/python3.10/dist-packages (from pmdarima) (0.29.36)\n",
            "Requirement already satisfied: numpy>=1.21.2 in /usr/local/lib/python3.10/dist-packages (from pmdarima) (1.22.4)\n",
            "Requirement already satisfied: pandas>=0.19 in /usr/local/lib/python3.10/dist-packages (from pmdarima) (1.5.3)\n",
            "Requirement already satisfied: scikit-learn>=0.22 in /usr/local/lib/python3.10/dist-packages (from pmdarima) (1.2.2)\n",
            "Requirement already satisfied: scipy>=1.3.2 in /usr/local/lib/python3.10/dist-packages (from pmdarima) (1.10.1)\n",
            "Requirement already satisfied: statsmodels>=0.13.2 in /usr/local/lib/python3.10/dist-packages (from pmdarima) (0.13.5)\n",
            "Requirement already satisfied: urllib3 in /usr/local/lib/python3.10/dist-packages (from pmdarima) (1.26.16)\n",
            "Requirement already satisfied: setuptools!=50.0.0,>=38.6.0 in /usr/local/lib/python3.10/dist-packages (from pmdarima) (67.7.2)\n",
            "Requirement already satisfied: python-dateutil>=2.8.1 in /usr/local/lib/python3.10/dist-packages (from pandas>=0.19->pmdarima) (2.8.2)\n",
            "Requirement already satisfied: pytz>=2020.1 in /usr/local/lib/python3.10/dist-packages (from pandas>=0.19->pmdarima) (2022.7.1)\n",
            "Requirement already satisfied: threadpoolctl>=2.0.0 in /usr/local/lib/python3.10/dist-packages (from scikit-learn>=0.22->pmdarima) (3.2.0)\n",
            "Requirement already satisfied: patsy>=0.5.2 in /usr/local/lib/python3.10/dist-packages (from statsmodels>=0.13.2->pmdarima) (0.5.3)\n",
            "Requirement already satisfied: packaging>=21.3 in /usr/local/lib/python3.10/dist-packages (from statsmodels>=0.13.2->pmdarima) (23.1)\n",
            "Requirement already satisfied: six in /usr/local/lib/python3.10/dist-packages (from patsy>=0.5.2->statsmodels>=0.13.2->pmdarima) (1.16.0)\n",
            "Installing collected packages: pmdarima\n",
            "Successfully installed pmdarima-2.0.3\n"
          ]
        }
      ]
    },
    {
      "cell_type": "code",
      "source": [
        "!pip install arch"
      ],
      "metadata": {
        "id": "2zMj-fnIlHs3",
        "colab": {
          "base_uri": "https://localhost:8080/"
        },
        "outputId": "6b70943d-fb14-49c1-91d2-34a2b9906235"
      },
      "execution_count": 2,
      "outputs": [
        {
          "output_type": "stream",
          "name": "stdout",
          "text": [
            "Collecting arch\n",
            "  Downloading arch-6.1.0-cp310-cp310-manylinux_2_17_x86_64.manylinux2014_x86_64.whl (916 kB)\n",
            "\u001b[2K     \u001b[90m━━━━━━━━━━━━━━━━━━━━━━━━━━━━━━━━━━━━━━━\u001b[0m \u001b[32m916.4/916.4 kB\u001b[0m \u001b[31m3.9 MB/s\u001b[0m eta \u001b[36m0:00:00\u001b[0m\n",
            "\u001b[?25hRequirement already satisfied: numpy>=1.19 in /usr/local/lib/python3.10/dist-packages (from arch) (1.22.4)\n",
            "Requirement already satisfied: scipy>=1.5 in /usr/local/lib/python3.10/dist-packages (from arch) (1.10.1)\n",
            "Requirement already satisfied: pandas>=1.1 in /usr/local/lib/python3.10/dist-packages (from arch) (1.5.3)\n",
            "Requirement already satisfied: statsmodels>=0.12 in /usr/local/lib/python3.10/dist-packages (from arch) (0.13.5)\n",
            "Requirement already satisfied: python-dateutil>=2.8.1 in /usr/local/lib/python3.10/dist-packages (from pandas>=1.1->arch) (2.8.2)\n",
            "Requirement already satisfied: pytz>=2020.1 in /usr/local/lib/python3.10/dist-packages (from pandas>=1.1->arch) (2022.7.1)\n",
            "Requirement already satisfied: patsy>=0.5.2 in /usr/local/lib/python3.10/dist-packages (from statsmodels>=0.12->arch) (0.5.3)\n",
            "Requirement already satisfied: packaging>=21.3 in /usr/local/lib/python3.10/dist-packages (from statsmodels>=0.12->arch) (23.1)\n",
            "Requirement already satisfied: six in /usr/local/lib/python3.10/dist-packages (from patsy>=0.5.2->statsmodels>=0.12->arch) (1.16.0)\n",
            "Installing collected packages: arch\n",
            "Successfully installed arch-6.1.0\n"
          ]
        }
      ]
    },
    {
      "cell_type": "code",
      "source": [
        "from google.colab import drive\n",
        "drive.mount('/content/drive')"
      ],
      "metadata": {
        "id": "HaQX6iWNmpGH"
      },
      "execution_count": null,
      "outputs": []
    },
    {
      "cell_type": "code",
      "source": [
        "import numpy as np\n",
        "import pandas as pd\n",
        "from pandas.util._decorators import Appender\n",
        "\n",
        "from statsmodels.tsa.stattools import adfuller\n",
        "from statsmodels.tsa.arima_process import ArmaProcess          # para simular proceso ARMA\n",
        "from statsmodels.graphics.tsaplots import plot_acf, plot_pacf\n",
        "from statsmodels.tsa.arima_model import ARIMA\n",
        "\n",
        "from pmdarima.arima import auto_arima\n",
        "import arch\n",
        "\n",
        "import matplotlib.pyplot as plt"
      ],
      "metadata": {
        "id": "V9Ia-j6Ins6m"
      },
      "execution_count": null,
      "outputs": []
    },
    {
      "cell_type": "code",
      "source": [
        "diariosg = pd.read_csv('/content/drive/MyDrive/Cruso-ApsFinancieras/semana5/USD_MXN.csv', sep=';')"
      ],
      "metadata": {
        "id": "4OzR0fhGnwJL"
      },
      "execution_count": null,
      "outputs": []
    },
    {
      "cell_type": "code",
      "source": [
        "# Cargar desde github\n",
        "# diariosg = pd.read_csv('https://raw.githubusercontent.com/MaxMitre/Aplicaciones-Financieras/main/Semana5/data/USD_MXN.csv', sep=';')"
      ],
      "metadata": {
        "id": "HjXdye2dX4mI"
      },
      "execution_count": null,
      "outputs": []
    },
    {
      "cell_type": "code",
      "source": [
        "diariosg"
      ],
      "metadata": {
        "id": "z6bIuvcyZb4P"
      },
      "execution_count": null,
      "outputs": []
    },
    {
      "cell_type": "code",
      "source": [
        "diariosg.info()"
      ],
      "metadata": {
        "id": "w_C0WcViny8N"
      },
      "execution_count": null,
      "outputs": []
    },
    {
      "cell_type": "code",
      "source": [
        "diariosg = diariosg[['Date', 'Price']].copy()"
      ],
      "metadata": {
        "id": "3O-yUdT9nz87"
      },
      "execution_count": null,
      "outputs": []
    },
    {
      "cell_type": "code",
      "source": [
        "diariosg"
      ],
      "metadata": {
        "id": "b3rzMzDwSqw3"
      },
      "execution_count": null,
      "outputs": []
    },
    {
      "cell_type": "code",
      "source": [
        "type(diariosg.loc[0, 'Date'])"
      ],
      "metadata": {
        "id": "ks8gYyp_SxLK"
      },
      "execution_count": null,
      "outputs": []
    },
    {
      "cell_type": "code",
      "source": [
        "# Este código nos dará un Warning\n",
        "diariosg['Date'] = pd.to_datetime(diariosg['Date'], dayfirst=True)"
      ],
      "metadata": {
        "id": "IMeqRc0Rnz60"
      },
      "execution_count": null,
      "outputs": []
    },
    {
      "cell_type": "code",
      "source": [
        "# Este es el código sin el warning\n",
        "diariosg.loc[:, 'Date'] = pd.to_datetime(diariosg['Date'], dayfirst=True)"
      ],
      "metadata": {
        "id": "HHqr1xatTnSA"
      },
      "execution_count": null,
      "outputs": []
    },
    {
      "cell_type": "code",
      "source": [
        "diariosg"
      ],
      "metadata": {
        "id": "mw-Fwi7ATzrZ"
      },
      "execution_count": null,
      "outputs": []
    },
    {
      "cell_type": "code",
      "source": [
        "# Revisar el tipo\n",
        "type(diariosg['Date'][0])"
      ],
      "metadata": {
        "id": "HrJwhuQxnz4v"
      },
      "execution_count": null,
      "outputs": []
    },
    {
      "cell_type": "code",
      "source": [
        "diariosg.set_index('Date', drop=True, inplace=True)"
      ],
      "metadata": {
        "id": "mxIXtQx3nz2j"
      },
      "execution_count": null,
      "outputs": []
    },
    {
      "cell_type": "code",
      "source": [
        "diariosg"
      ],
      "metadata": {
        "id": "8X0cn-Wmb4UD"
      },
      "execution_count": null,
      "outputs": []
    },
    {
      "cell_type": "code",
      "source": [
        "diariosg['Price'].plot(figsize=(10,4), title='Precios Dólar', ylabel = 'Precio',)\n",
        "plt.show()"
      ],
      "metadata": {
        "id": "SF0n0Jdnn8pa"
      },
      "execution_count": null,
      "outputs": []
    },
    {
      "cell_type": "code",
      "source": [
        "# p-valor para ver si serie es estacionaria\n",
        "# ¿La serie es estacionaria?\n",
        "p_value = adfuller(diariosg['Price'])[1]\n",
        "print(p_value)"
      ],
      "metadata": {
        "id": "FN7hcS61n8nM"
      },
      "execution_count": null,
      "outputs": []
    },
    {
      "cell_type": "code",
      "source": [
        "diariosg['price_log'] = np.log(diariosg['Price'])\n",
        "diariosg['price_log'].plot(figsize=(10,4), title='Transformación logaritmica Precios Dólar', ylabel = 'Precio',)\n",
        "plt.show()"
      ],
      "metadata": {
        "id": "a6O5_7M7n8k6"
      },
      "execution_count": null,
      "outputs": []
    },
    {
      "cell_type": "code",
      "source": [
        "diariosg['retornos_log']= diariosg['price_log'].diff()  # en la diferencia perdemos el primer registro\n",
        "diariosg.head()"
      ],
      "metadata": {
        "id": "exn-aeTMn8ip"
      },
      "execution_count": null,
      "outputs": []
    },
    {
      "cell_type": "code",
      "source": [
        "diariosg['retornos_log'][1:].plot(figsize=(10,4), title='Retornos logaritmicos Dólar', ylabel = 'retornos_log')\n",
        "plt.show()"
      ],
      "metadata": {
        "id": "7vYso7Dyn8fQ"
      },
      "execution_count": null,
      "outputs": []
    },
    {
      "cell_type": "code",
      "source": [
        "plt.rc(\"figure\", figsize=(4,2))\n",
        "diariosg['price_log'].plot.hist(bins=60)\n",
        "plt.show()"
      ],
      "metadata": {
        "id": "LEusifmPoFnp"
      },
      "execution_count": null,
      "outputs": []
    },
    {
      "cell_type": "code",
      "source": [
        "plot_acf(diariosg['price_log'], lags=50)\n",
        "plt.show()"
      ],
      "metadata": {
        "id": "ACIvM7NmoFla"
      },
      "execution_count": null,
      "outputs": []
    },
    {
      "cell_type": "code",
      "source": [
        "# COMPARACION plots de retornos_log\n",
        "diariosg['retornos_log'][1:].plot(figsize=(10,4), title='Retornos logaritmicos Dólar', ylabel = 'retornos_log',)\n",
        "plt.show()"
      ],
      "metadata": {
        "id": "I_RiFIUsoFjW"
      },
      "execution_count": null,
      "outputs": []
    },
    {
      "cell_type": "code",
      "source": [
        "plt.rc(\"figure\", figsize=(6,3))\n",
        "diariosg['retornos_log'][1:].plot.hist(bins=60, title='histogram')\n",
        "plt.show()"
      ],
      "metadata": {
        "id": "6Bauev2loFgy"
      },
      "execution_count": null,
      "outputs": []
    },
    {
      "cell_type": "code",
      "source": [
        "plot_acf(diariosg['retornos_log'][1:])\n",
        "plt.show()"
      ],
      "metadata": {
        "id": "e6MA8eMLoKqX"
      },
      "execution_count": null,
      "outputs": []
    },
    {
      "cell_type": "code",
      "source": [
        "import scipy.stats"
      ],
      "metadata": {
        "id": "CJC7Dag_oMao"
      },
      "execution_count": null,
      "outputs": []
    },
    {
      "cell_type": "code",
      "source": [
        "scipy.stats.probplot(diariosg['retornos_log'][1:], plot =  plt)\n",
        "plt.title(\"QQ Plot\", size = 24)\n",
        "plt.show()"
      ],
      "metadata": {
        "id": "ulOUViJboOJy"
      },
      "execution_count": null,
      "outputs": []
    },
    {
      "cell_type": "code",
      "source": [
        "# ¿La serie retornos log es estacionaria?\n",
        "p_value = adfuller(diariosg['retornos_log'][1:])[1]\n",
        "p_value\n",
        "\n",
        "# SE rechaza hipotesis nula, siendo aceptada que es estacionaria"
      ],
      "metadata": {
        "id": "k8F4Ldh3oP6F"
      },
      "execution_count": null,
      "outputs": []
    },
    {
      "cell_type": "code",
      "source": [
        "plt.rc(\"figure\", figsize=(6,3))\n",
        "\n",
        "plot_acf(diariosg['retornos_log'][1:])\n",
        "plt.show()\n",
        "\n",
        "plot_pacf(diariosg['retornos_log'][1:])\n",
        "plt.show()"
      ],
      "metadata": {
        "id": "FE7oUcbboP4L"
      },
      "execution_count": null,
      "outputs": []
    },
    {
      "cell_type": "code",
      "source": [
        "# MODELO ARIMA    # REVISAR SI ES FALSE para precios\n",
        "model_arma = auto_arima(diariosg['retornos_log'][1:],\n",
        "                        stationary= True,  stepwise=False, maxiter=200, trace=True,\n",
        "                        information_criterion='aic', max_order=5)\n",
        "# start_p=2, start_q=2, d=None, max_p=5, max_q=5 por default"
      ],
      "metadata": {
        "id": "zo6LTH-1oP1_"
      },
      "execution_count": null,
      "outputs": []
    },
    {
      "cell_type": "code",
      "source": [
        "print(model_arma.summary())"
      ],
      "metadata": {
        "id": "65awf9vAoPzi"
      },
      "execution_count": null,
      "outputs": []
    },
    {
      "cell_type": "code",
      "source": [
        "model_arma.predict()"
      ],
      "metadata": {
        "id": "phqKoFajeVMj"
      },
      "execution_count": null,
      "outputs": []
    },
    {
      "cell_type": "code",
      "source": [
        "model_arima = auto_arima(diariosg['price_log'],\n",
        "                        stationary= False,  stepwise=False, maxiter=200, trace=True,\n",
        "                        information_criterion='aic',max_order=5)"
      ],
      "metadata": {
        "id": "-PwqyAN6oPwy"
      },
      "execution_count": null,
      "outputs": []
    },
    {
      "cell_type": "code",
      "source": [
        "print(model_arima.summary())"
      ],
      "metadata": {
        "id": "qJ_7Z0YKoeTp"
      },
      "execution_count": null,
      "outputs": []
    },
    {
      "cell_type": "code",
      "source": [
        "# Exploración de residuos del modelo ARMA de Retornos\n",
        "\n",
        "residuos_arma = pd.Series(model_arma.resid(), index = diariosg.index[1:])\n",
        "residuos_arma.plot(figsize=(10,4), title='Residuos arma')\n",
        "plt.show()"
      ],
      "metadata": {
        "id": "SttXRgn1of0v"
      },
      "execution_count": null,
      "outputs": []
    },
    {
      "cell_type": "code",
      "source": [
        "model_arma.plot_diagnostics(figsize=(12,8), lags=10)\n",
        "plt.show()"
      ],
      "metadata": {
        "id": "RuvysQHwofyQ"
      },
      "execution_count": null,
      "outputs": []
    },
    {
      "cell_type": "code",
      "source": [
        "res2 = pow(residuos_arma,2)\n",
        "\n",
        "res2.plot(figsize=(10,4), title='Residuos al cuadrado')\n",
        "plt.show()\n",
        "\n",
        "plot_acf(res2)\n",
        "plt.show()\n",
        "\n",
        "plot_pacf(res2)\n",
        "plt.show()"
      ],
      "metadata": {
        "id": "qEk9EfYJofwE"
      },
      "execution_count": null,
      "outputs": []
    },
    {
      "cell_type": "code",
      "source": [
        "### ARCH  (aprox Desviacion estandar de la serie de tiempo)\n",
        "\n",
        "garch = arch.arch_model(residuos_arma, p=1, q=0, rescale=False)  # VALOR A Q?\n",
        "model_garch= garch.fit()"
      ],
      "metadata": {
        "id": "Jn4epg-jojzq"
      },
      "execution_count": null,
      "outputs": []
    },
    {
      "cell_type": "code",
      "source": [
        "print(model_garch.summary())"
      ],
      "metadata": {
        "id": "pMte8KvjrW0e"
      },
      "execution_count": null,
      "outputs": []
    },
    {
      "cell_type": "code",
      "source": [
        "diariosg['volatilidad_condicional']=np.nan\n",
        "diariosg['volatilidad_condicional'][1:]=model_garch.conditional_volatility\n",
        "diariosg['volatilidad_condicional'].plot(figsize=(10,4), title='volatilidad condicional')\n",
        "plt.show()"
      ],
      "metadata": {
        "id": "lPngcZGRojxY"
      },
      "execution_count": null,
      "outputs": []
    },
    {
      "cell_type": "code",
      "execution_count": null,
      "metadata": {
        "id": "vIe_W3Cog58W"
      },
      "outputs": [],
      "source": [
        "# GARCH (ARCH Generalizado)\n",
        "\n",
        "garch11 = arch.arch_model(residuos_arma, p=1, q=1, rescale=False)\n",
        "model_garch11= garch11.fit()\n",
        "\n",
        "print(model_garch11.summary())"
      ]
    },
    {
      "cell_type": "code",
      "source": [
        "diariosg['volatilidad_condicional']=np.nan\n",
        "diariosg['volatilidad_condicional'][1:]=model_garch11.conditional_volatility\n",
        "diariosg['volatilidad_condicional'].plot(figsize=(10,4), title='volatilidad condicional')\n",
        "plt.show()"
      ],
      "metadata": {
        "id": "wt0YE4yCZQdN"
      },
      "execution_count": null,
      "outputs": []
    },
    {
      "cell_type": "markdown",
      "metadata": {
        "id": "CZxO9M_SdxMs"
      },
      "source": [
        "# Value at Risk"
      ]
    },
    {
      "cell_type": "code",
      "metadata": {
        "id": "ic8mmK4Kd1Ib"
      },
      "source": [
        "# Riesgo del 5% suponiendo una distribución normal"
      ],
      "execution_count": null,
      "outputs": []
    },
    {
      "cell_type": "code",
      "source": [
        "diariosg.columns"
      ],
      "metadata": {
        "id": "u8nt2Y6HfPd1"
      },
      "execution_count": null,
      "outputs": []
    },
    {
      "cell_type": "code",
      "metadata": {
        "id": "vX0xQp_W9aFh"
      },
      "source": [
        "lim = diariosg['retornos_log'].quantile(0.05)\n",
        "lim"
      ],
      "execution_count": null,
      "outputs": []
    },
    {
      "cell_type": "code",
      "metadata": {
        "id": "q-5NK0apaBuh"
      },
      "source": [
        "diariosg['riesgo_5pc_cte'] = np.nan\n",
        "diariosg['riesgo_5pc_cte'][1:]=lim"
      ],
      "execution_count": null,
      "outputs": []
    },
    {
      "cell_type": "code",
      "metadata": {
        "id": "2TVB2RTHtEt8"
      },
      "source": [
        "diariosg.head(10)"
      ],
      "execution_count": null,
      "outputs": []
    },
    {
      "cell_type": "code",
      "metadata": {
        "id": "kZlx7GXS-uJQ"
      },
      "source": [
        "plt.rc(\"figure\", figsize=(6,4))\n",
        "\n",
        "diariosg['retornos_log'][lambda x:x>=lim].plot.hist(bins=50, title='histogram', color='blue')\n",
        "diariosg['retornos_log'][lambda x:x<lim].plot.hist(bins=50, title='histogram', color='r')\n",
        "plt.show()"
      ],
      "execution_count": null,
      "outputs": []
    },
    {
      "cell_type": "code",
      "metadata": {
        "id": "puXj9KL-NTFJ"
      },
      "source": [
        "from scipy.stats import norm\n",
        "lim2 = norm(loc = 0 , scale = 1).ppf(0.05)\n",
        "lim2"
      ],
      "execution_count": null,
      "outputs": []
    },
    {
      "cell_type": "code",
      "metadata": {
        "id": "9labU-AYuOB_"
      },
      "source": [
        "diariosg"
      ],
      "execution_count": null,
      "outputs": []
    },
    {
      "cell_type": "code",
      "metadata": {
        "id": "dnheFCJUDuIG"
      },
      "source": [
        "diariosg['retornos_log'][1:].plot(figsize=(15,6), title='Retornos logaritmicos Dólar', ylabel = 'retornos_log')\n",
        "diariosg['riesgo_5pc_cte'][1:].plot(c='r')\n",
        "(diariosg['volatilidad_condicional'][1:]*lim2).plot(c='orange')\n",
        "\n",
        "plt.show()"
      ],
      "execution_count": null,
      "outputs": []
    },
    {
      "cell_type": "markdown",
      "metadata": {
        "id": "xs8Eu7-fXun2"
      },
      "source": [
        "# Predicción con ARIMA"
      ]
    },
    {
      "cell_type": "code",
      "metadata": {
        "id": "wlAFdelg3g6h"
      },
      "source": [
        "n_periods = 20\n",
        "fc_log, confint_log = model_arima.predict(n_periods=n_periods,  return_conf_int=True, alpha=0.1)\n",
        "fc, confint = np.exp(fc_log), np.exp(confint_log)\n",
        "\n",
        "# Vamos a crear una serie para graficar más facilmente\n",
        "ix_fc = pd.date_range( start='2022-04-05', periods=n_periods, freq='B')  # 2022-04-05 es la fecha final a la que le queremos predecir\n",
        "fc_series = pd.Series(fc, ix_fc )\n",
        "\n",
        "lower_series = pd.Series(confint[:, 0],  index=ix_fc )\n",
        "upper_series = pd.Series(confint[:, 1],  index=ix_fc )\n",
        "\n",
        "# Plot\n",
        "plt.rc(\"figure\", figsize=(7,4))\n",
        "plt.plot(diariosg['Price'])\n",
        "\n",
        "plt.plot(fc_series, color='darkgreen')\n",
        "plt.fill_between(lower_series.index,\n",
        "                 lower_series,\n",
        "                 upper_series,\n",
        "                 color='k', alpha=.15)\n",
        "\n",
        "plt.title(\"Predicción del precio con ARIMA\")"
      ],
      "execution_count": null,
      "outputs": []
    },
    {
      "cell_type": "code",
      "source": [
        "# Recordemos el original\n",
        "diariosg['Price'].plot(figsize=(7,4), title='Precios Dólar', ylabel = 'Precio')\n",
        "plt.show()"
      ],
      "metadata": {
        "id": "epMSHgeRgfMl"
      },
      "execution_count": null,
      "outputs": []
    },
    {
      "cell_type": "markdown",
      "metadata": {
        "id": "m2n0mHtVnSzW"
      },
      "source": [
        "# Predicción Garch"
      ]
    },
    {
      "cell_type": "code",
      "metadata": {
        "id": "lQc_tF6sJsXK"
      },
      "source": [
        "fc_garch = model_garch.forecast(reindex=False, horizon=n_periods)\n",
        "fc_garch"
      ],
      "execution_count": null,
      "outputs": []
    },
    {
      "cell_type": "markdown",
      "metadata": {
        "id": "BKn9LUr1Kexo"
      },
      "source": [
        "**`fc_garch`** es un objeto ARCHModelForcast, entre sus atributos usaremos la media para sumarlo a la predicción de arima.\n",
        "\n",
        "[documentación](https://arch.readthedocs.io/en/latest/univariate/univariate_volatility_forecasting.html) de la biblioteca arch y el forcasting de volatilidad"
      ]
    },
    {
      "cell_type": "code",
      "metadata": {
        "id": "6FBqwGHETKbG"
      },
      "source": [
        "fc_garch.mean"
      ],
      "execution_count": null,
      "outputs": []
    },
    {
      "cell_type": "markdown",
      "metadata": {
        "id": "E8et6DiJTNx2"
      },
      "source": [
        "Podemos ver que las predicciones están guardadas en un dataframe"
      ]
    }
  ]
}