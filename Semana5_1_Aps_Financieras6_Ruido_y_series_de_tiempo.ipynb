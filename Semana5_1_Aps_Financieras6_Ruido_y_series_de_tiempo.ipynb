{
  "nbformat": 4,
  "nbformat_minor": 0,
  "metadata": {
    "colab": {
      "provenance": [],
      "include_colab_link": true
    },
    "kernelspec": {
      "name": "python3",
      "display_name": "Python 3"
    },
    "language_info": {
      "name": "python"
    }
  },
  "cells": [
    {
      "cell_type": "markdown",
      "metadata": {
        "id": "view-in-github",
        "colab_type": "text"
      },
      "source": [
        "<a href=\"https://colab.research.google.com/github/nayrr25/Aplicaciones-Financieras-e-IA/blob/main/Semana5_1_Aps_Financieras6_Ruido_y_series_de_tiempo.ipynb\" target=\"_parent\"><img src=\"https://colab.research.google.com/assets/colab-badge.svg\" alt=\"Open In Colab\"/></a>"
      ]
    },
    {
      "cell_type": "markdown",
      "source": [
        "[![Open In Colab](https://colab.research.google.com/assets/colab-badge.svg)](https://colab.research.google.com/github/MaxMitre/Aplicaciones-Financieras/blob/main/Semana5/1_Ruido_y_SeriesDeTiempo.ipynb)"
      ],
      "metadata": {
        "id": "5hi6sR47Q3Jh"
      }
    },
    {
      "cell_type": "markdown",
      "source": [
        "# Dependencias"
      ],
      "metadata": {
        "id": "Iy5cz0bCpQGW"
      }
    },
    {
      "cell_type": "code",
      "metadata": {
        "id": "kSILhs5xmYwm"
      },
      "source": [
        "import numpy as np\n",
        "import pandas as pd\n",
        "\n",
        "from statsmodels.tsa.arima_process import ArmaProcess\n",
        "from statsmodels.graphics.tsaplots import plot_acf, plot_pacf\n",
        "\n",
        "import matplotlib.pyplot as plt"
      ],
      "execution_count": 1,
      "outputs": []
    },
    {
      "cell_type": "markdown",
      "source": [
        "# Función auxiliar"
      ],
      "metadata": {
        "id": "SBrNvGXVpS3v"
      }
    },
    {
      "cell_type": "code",
      "metadata": {
        "id": "7wmuX9Ncmjwa"
      },
      "source": [
        "def genera_puntos_regresion(m, b, sigma, size=10):\n",
        "    '''genera coordenadas en x y y de puntos aleatorios\n",
        "    en regresión.\n",
        "    m: pendiente\n",
        "    b: ordenada al origen\n",
        "    sigma: desviación estándar de errores gaussianos\n",
        "    size: cantidad de puntos a generar'''\n",
        "\n",
        "    errors = 0\n",
        "    xdata = np.linspace(-1.0,1.0,size)\n",
        "    errors = np.random.normal(0, sigma, size)\n",
        "    ydata = m * xdata + b + errors\n",
        "\n",
        "    return xdata, ydata"
      ],
      "execution_count": 2,
      "outputs": []
    },
    {
      "cell_type": "markdown",
      "metadata": {
        "id": "6w4dZ0GgFuxk"
      },
      "source": [
        "# Simulación de puntos en 2d a partir de la ecuación de una recta"
      ]
    },
    {
      "cell_type": "markdown",
      "metadata": {
        "id": "Iow1xs8IGB38"
      },
      "source": [
        "## Sin Ruido"
      ]
    },
    {
      "cell_type": "code",
      "metadata": {
        "id": "IjVm5hNxnPrC",
        "outputId": "16c7bb2b-49e8-4ddd-de1b-e3c4b89dd4ad",
        "colab": {
          "base_uri": "https://localhost:8080/",
          "height": 368
        }
      },
      "source": [
        "m = 0.5\n",
        "b = 0\n",
        "sigma = 0\n",
        "\n",
        "xs, ys = genera_puntos_regresion(m, b, sigma, size=1000)\n",
        "\n",
        "fig = plt.figure(figsize = (10, 4))\n",
        "plt.plot(xs, ys, 'o')\n",
        "plt.plot(xs, m * xs + b)\n",
        "\n",
        "plt.axis('equal')\n",
        "plt.show()"
      ],
      "execution_count": 3,
      "outputs": [
        {
          "output_type": "display_data",
          "data": {
            "text/plain": [
              "<Figure size 1000x400 with 1 Axes>"
            ],
            "image/png": "[encoded data removed]"
          },
          "metadata": {}
        }
      ]
    },
    {
      "cell_type": "code",
      "source": [
        "m = 1\n",
        "b = 0\n",
        "sigma = 0\n",
        "\n",
        "xs, ys = genera_puntos_regresion(m, b, sigma, size=1000)\n",
        "\n",
        "fig = plt.figure(figsize = (10, 4))\n",
        "plt.plot(xs, ys, 'o')\n",
        "plt.plot(xs, m * xs + b)\n",
        "\n",
        "plt.axis('equal')\n",
        "plt.show()"
      ],
      "metadata": {
        "id": "WIaOE73B4iUo",
        "outputId": "288f4fb3-655f-43b4-ff85-469e6e76355e",
        "colab": {
          "base_uri": "https://localhost:8080/",
          "height": 368
        }
      },
      "execution_count": 4,
      "outputs": [
        {
          "output_type": "display_data",
          "data": {
            "text/plain": [
              "<Figure size 1000x400 with 1 Axes>"
            ],
            "image/png": "[encoded data removed]"
          },
          "metadata": {}
        }
      ]
    },
    {
      "cell_type": "markdown",
      "metadata": {
        "id": "5gRvh7hjGpxp"
      },
      "source": [
        "## Con Ruido"
      ]
    },
    {
      "cell_type": "code",
      "metadata": {
        "id": "JY_lDPWPGpxr"
      },
      "source": [
        "m = 0.5\n",
        "b = 3\n",
        "sigma = 1\n",
        "\n",
        "fig = plt.figure(figsize = (10, 4))\n",
        "xs, ys = genera_puntos_regresion(m, b, sigma, size=1000)\n",
        "\n",
        "plt.plot(xs, ys, 'o')\n",
        "plt.plot(xs, m * xs + b)\n",
        "plt.show()"
      ],
      "execution_count": null,
      "outputs": []
    },
    {
      "cell_type": "code",
      "metadata": {
        "id": "KCU6_fyAtsdw"
      },
      "source": [
        "errores = ys -  m * xs + b\n",
        "pd.Series(errores).plot.hist(bins=40, density = True)"
      ],
      "execution_count": null,
      "outputs": []
    },
    {
      "cell_type": "markdown",
      "metadata": {
        "id": "CQ9nKf6_Gmbt"
      },
      "source": [
        "# Simulación de Ruido blanco"
      ]
    },
    {
      "cell_type": "markdown",
      "metadata": {
        "id": "tLehoQKX4poh"
      },
      "source": [
        "### iid (independiente e identicamente distribuido)"
      ]
    },
    {
      "cell_type": "code",
      "source": [
        "np.random.normal(0, 1, 10)"
      ],
      "metadata": {
        "id": "0EXs54hPBr7x"
      },
      "execution_count": null,
      "outputs": []
    },
    {
      "cell_type": "code",
      "metadata": {
        "id": "VxeXIyuMtpyc"
      },
      "source": [
        "media = 0\n",
        "std = 1\n",
        "num_muestras = 1000\n",
        "ruido_blanco = pd.Series(np.random.normal(media, std, num_muestras))\n",
        "\n",
        "ruido_blanco.plot(figsize = (20,4))\n",
        "plt.show()"
      ],
      "execution_count": null,
      "outputs": []
    },
    {
      "cell_type": "code",
      "metadata": {
        "id": "oZTgI5NE6yhO"
      },
      "source": [
        "ruido_blanco.plot.hist(bins=30, density=True)"
      ],
      "execution_count": null,
      "outputs": []
    },
    {
      "cell_type": "markdown",
      "metadata": {
        "id": "dr5TeB_i4x9d"
      },
      "source": [
        "### Otros tipos ruidos blancos"
      ]
    },
    {
      "cell_type": "markdown",
      "metadata": {
        "id": "X3cjby7S446u"
      },
      "source": [
        "####Ejemplo 1\n",
        "\n",
        "1) Sea $X_t$ un proceso iid y $Y$ una variable aleatoria con distribución Bernoulli con $p = 0.05$\n",
        "\n",
        "Entonces la variable aleatoria\n",
        "\n",
        "$Z_t= X_t~Y- X_t(Y-1)^2$ es un ruido blanco"
      ]
    },
    {
      "cell_type": "code",
      "metadata": {
        "id": "cc_6R8dk4x9d"
      },
      "source": [
        "num_muestras = 10000\n",
        "X_t = pd.Series(np.random.normal(size= num_muestras))\n",
        "Y = pd.Series(np.random.binomial(1, p = 0.05, size = num_muestras))\n",
        "Z_t = (X_t * Y) - X_t*pow((Y - 1),2)\n",
        "\n",
        "Z_t.plot(figsize = (16,3))\n",
        "plt.show()"
      ],
      "execution_count": null,
      "outputs": []
    },
    {
      "cell_type": "code",
      "metadata": {
        "id": "VsJqHHL04x9e"
      },
      "source": [
        "Z_t.plot.hist(bins=50)"
      ],
      "execution_count": null,
      "outputs": []
    },
    {
      "cell_type": "markdown",
      "metadata": {
        "id": "wTXADpb78w8D"
      },
      "source": [
        "####Ejemplo 2\n",
        "\n",
        "2) Sea $X_t$ un proceso iid y el proceso estocástico definido por:\n",
        "\n",
        "- $Z_t = X_t$ cuando t es par, y\n",
        "- $Z_t = \\frac{1}{\\sqrt{2}}(X^2_{t-1}-1)$ cuando t es impar,\n",
        "\n",
        "es un ruido blanco"
      ]
    },
    {
      "cell_type": "code",
      "metadata": {
        "id": "lMB4apD2-CHi"
      },
      "source": [
        "Xt = pd.Series(np.random.normal(size= 10000)) #proceso iid\n",
        "Xt"
      ],
      "execution_count": null,
      "outputs": []
    },
    {
      "cell_type": "code",
      "metadata": {
        "id": "MEKEOF3UeGUr"
      },
      "source": [
        "Zt = pd.Series(np.zeros(10000))\n",
        "Zt"
      ],
      "execution_count": null,
      "outputs": []
    },
    {
      "cell_type": "code",
      "metadata": {
        "id": "AuXo3ABYDUt6"
      },
      "source": [
        "Zt = pd.Series(np.zeros(10000))\n",
        "for i in range(len(Zt)):\n",
        "  if i % 2 == 0:\n",
        "    Zt[i]= Xt[i]\n",
        "  else:\n",
        "    Zt[i] = 1/np.sqrt(2)*(pow(Xt[i-1], 2)-1)\n",
        "\n",
        "Zt.plot(figsize = (16,3))\n",
        "plt.show()"
      ],
      "execution_count": null,
      "outputs": []
    },
    {
      "cell_type": "code",
      "metadata": {
        "id": "fh262JlV8w8R"
      },
      "source": [
        "Zt.plot.hist(bins=50)"
      ],
      "execution_count": null,
      "outputs": []
    },
    {
      "cell_type": "markdown",
      "source": [
        "## EJERCICIO: ¿Pueden pensar en un proceso que tenga como parte de el al ruido blanco, pero que no sea un ruido blanco?  \n",
        "Es decir, $X_t$ es ruido blanco, pero\n",
        "$$ f(X_t) $$\n",
        "no es un ruido blanco."
      ],
      "metadata": {
        "id": "UmvFqSuTqqaI"
      }
    },
    {
      "cell_type": "markdown",
      "source": [
        "$$ f(X_t) = 5t + X_t $$"
      ],
      "metadata": {
        "id": "402gv5meIY2d"
      }
    },
    {
      "cell_type": "code",
      "source": [
        "ruido_blanco = np.random.normal(0,1,1000)\n",
        "plt.plot(ruido_blanco)"
      ],
      "metadata": {
        "id": "76DAZp4xH3rY"
      },
      "execution_count": null,
      "outputs": []
    },
    {
      "cell_type": "code",
      "source": [
        "def funcion(ruido_blanco):\n",
        "  '''transformacion'''\n",
        "  x = np.linspace(0,10,len(ruido_blanco))\n",
        "  y = 5*x + ruido_blanco\n",
        "  return y\n",
        "\n",
        "y_aux = funcion(ruido_blanco)"
      ],
      "metadata": {
        "id": "xX6ZOquUEnjH"
      },
      "execution_count": null,
      "outputs": []
    },
    {
      "cell_type": "code",
      "source": [
        "plt.hist(y_aux)"
      ],
      "metadata": {
        "id": "hW12wuXMFOs3"
      },
      "execution_count": null,
      "outputs": []
    },
    {
      "cell_type": "code",
      "source": [
        "plt.plot(np.linspace(0,10,len(ruido_blanco)), y_aux)"
      ],
      "metadata": {
        "id": "EJN_nXf5F-cR"
      },
      "execution_count": null,
      "outputs": []
    },
    {
      "cell_type": "markdown",
      "metadata": {
        "id": "_bTI4F0OSrUd"
      },
      "source": [
        "# Simulación de un proceso autorregresivo  (AR)"
      ]
    },
    {
      "cell_type": "markdown",
      "source": [
        "$$ x_t = \\alpha_{(t-1)} x_{(t-1)} + \\alpha_{(t-2)} x_{(t-2)} + \\beta_{(t-1)} \\epsilon_{(t-1)}$$"
      ],
      "metadata": {
        "id": "UGQz-6guLOiY"
      }
    },
    {
      "cell_type": "code",
      "metadata": {
        "id": "qQZuCxyKBV8y"
      },
      "source": [
        "coef = 0.9\n",
        "plt.subplot(2,1,1)\n",
        "ar = np.array([1, - coef])\n",
        "ma = np.array([1])\n",
        "\n",
        "titulo = 'Proceso Autoregresivo, con un retraso. Coef = ' + str(coef)\n",
        "AR_model = ArmaProcess(ar, ma)\n",
        "plt.rc(\"figure\", figsize=(20,4))\n",
        "\n",
        "\n",
        "AR_simulacion = pd.Series(AR_model.generate_sample(nsample=10000))\n",
        "AR_simulacion.plot(figsize = (20,6), title=titulo)\n",
        "plt.show()"
      ],
      "execution_count": null,
      "outputs": []
    },
    {
      "cell_type": "code",
      "source": [
        "plt.hist(AR_simulacion)"
      ],
      "metadata": {
        "id": "nZ0_2p017eB-"
      },
      "execution_count": null,
      "outputs": []
    },
    {
      "cell_type": "markdown",
      "metadata": {
        "id": "G8toVRemXDFY"
      },
      "source": [
        "## Funciones de autocorrelación y autocorrelación parcial"
      ]
    },
    {
      "cell_type": "markdown",
      "source": [
        "## Paréntesis cultural: método .shift() en DataFrames"
      ],
      "metadata": {
        "id": "-fNsBDcxMRNR"
      }
    },
    {
      "cell_type": "code",
      "source": [
        "muestra = pd.DataFrame({'Series_tiempo':[2,3,6,1,8,5,4,4,2,3,1]})\n",
        "muestra"
      ],
      "metadata": {
        "id": "wkL29pWG9Fyy"
      },
      "execution_count": null,
      "outputs": []
    },
    {
      "cell_type": "code",
      "source": [
        "muestra['1_tiempo'] = muestra.shift()\n",
        "muestra['2_tiempo'] = muestra.Series_tiempo.shift(2)"
      ],
      "metadata": {
        "id": "fJOjhparOCy5"
      },
      "execution_count": null,
      "outputs": []
    },
    {
      "cell_type": "code",
      "source": [
        "muestra"
      ],
      "metadata": {
        "id": "WzqAZGGYOWb1"
      },
      "execution_count": null,
      "outputs": []
    },
    {
      "cell_type": "code",
      "metadata": {
        "id": "AKdCRBz7LKIN"
      },
      "source": [
        "# Función de autocorrelación\n",
        "plot_acf(AR_simulacion,   alpha=0.2, lags=30)\n",
        "plt.show()"
      ],
      "execution_count": null,
      "outputs": []
    },
    {
      "cell_type": "code",
      "metadata": {
        "id": "EW9JU1VeQkoA"
      },
      "source": [
        "# Función de autocorrelación parcial\n",
        "plot_pacf(AR_simulacion, alpha=1, lags=15)\n",
        "plt.show()"
      ],
      "execution_count": null,
      "outputs": []
    },
    {
      "cell_type": "markdown",
      "metadata": {
        "id": "Vs08QJ0uSzqg"
      },
      "source": [
        "# Simulación de serie de tiempo Medias Móviles (MA)"
      ]
    },
    {
      "cell_type": "code",
      "metadata": {
        "id": "i2NciA8iSb4_"
      },
      "source": [
        "coef = -0.9\n",
        "plt.subplot(2,1,1)\n",
        "ar = np.array([1])\n",
        "ma = np.array([1, coef])\n",
        "\n",
        "titulo = 'Proceso Medias Móviles, con un retraso. Coef = ' + str(coef)\n",
        "MA_model = ArmaProcess(ar, ma)\n",
        "MA_simulacion = pd.Series(MA_model.generate_sample(nsample=10000))\n",
        "MA_simulacion.plot(figsize = (20,6), title=titulo)\n",
        "plt.show()"
      ],
      "execution_count": null,
      "outputs": []
    },
    {
      "cell_type": "code",
      "metadata": {
        "id": "OlQSnDFHULvh"
      },
      "source": [
        "# Función de autocorrelación\n",
        "plot_acf(MA_simulacion, alpha=1, lags=15)\n",
        "plt.show()"
      ],
      "execution_count": null,
      "outputs": []
    },
    {
      "cell_type": "code",
      "source": [
        "plot_pacf(MA_simulacion, alpha=1, lags=15)\n",
        "plt.show()"
      ],
      "metadata": {
        "id": "Iqr5rLHyS6ar"
      },
      "execution_count": null,
      "outputs": []
    },
    {
      "cell_type": "markdown",
      "source": [
        "# Simulación proceso ARCH (manual)"
      ],
      "metadata": {
        "id": "NursNW-Skq9z"
      }
    },
    {
      "cell_type": "markdown",
      "source": [
        "Sea\n",
        "$\\epsilon_t$ los terminos de errores, estos se componen de una parte estocástica y una parte dependiente en el tiempo de la desviación estandar $\\sigma_t$, que luce del siguiente modo:\n",
        "$$ \\epsilon_t  = z_t \\times \\sigma_t$$\n",
        "donde los $z_t$ son un ruido blanco.\n",
        "\n",
        "Por otro lado, la serie de las desviaciones estándares se modela del siguiente modo:\n",
        "\n",
        "$$ \\sigma_{t}^{2} = \\alpha_0 + \\sum_{i=0}^{q} \\alpha_i\\cdot \\epsilon_{t-i}^2 $$\n",
        "\n",
        "en especial, si $q=1$ [es decir, ARCH(1)], tenemos\n",
        "\n",
        "$$ \\sigma_t^2 = \\alpha_0  + \\alpha_1 \\cdot \\epsilon_{t-1}^{2}$$.\n",
        "\n"
      ],
      "metadata": {
        "id": "aZfKmCg0yBOt"
      }
    },
    {
      "cell_type": "markdown",
      "source": [
        "https://en.wikipedia.org/wiki/Autoregressive_conditional_heteroskedasticity"
      ],
      "metadata": {
        "id": "RE9Tr_-2A9lI"
      }
    },
    {
      "cell_type": "code",
      "source": [
        "#np.random.seed(1)\n",
        "\n",
        "n=1000        # Num. de observaciones\n",
        "n1=100        # Nos deharemos de estas primeras observaciones\n",
        "n2=n+n1\n",
        "\n",
        "a=(0.1,0.3)   # coeficientes alpha0 y alpha1 de modelo ARCH (1)\n",
        "errors=np.random.normal(0,1,n2)\n",
        "t=np.zeros(n2)\n",
        "t[0]=np.random.normal(0,np.sqrt(a[0]/(1-a[1])),1)\n",
        "for i in range(1,n2-1):\n",
        "    t[i]=errors[i]*np.sqrt(a[0]+a[1]*t[i-1]**2)\n",
        "    y=t[n1-1:-1] # eliminamos las primeras n1 observaciones\n",
        "\n",
        "plt.title('ARCH (1)')\n",
        "x=range(n)\n",
        "plt.plot(x,y)\n",
        "plt.show()"
      ],
      "metadata": {
        "id": "KVgItcilkqtj"
      },
      "execution_count": null,
      "outputs": []
    }
  ]
}